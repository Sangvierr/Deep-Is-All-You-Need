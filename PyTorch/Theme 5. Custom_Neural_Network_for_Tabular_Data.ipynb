{
 "cells": [
  {
   "cell_type": "markdown",
   "metadata": {},
   "source": [
    "# 5. Custom Neural Network for Tabular Data"
   ]
  },
  {
   "cell_type": "markdown",
   "metadata": {},
   "source": [
    "### [2024.02.28] 이상혁"
   ]
  },
  {
   "cell_type": "markdown",
   "metadata": {},
   "source": [
    "### 개요\n",
    "- IDA 2016 Challenge에서 진행한 APS Failure and Operational Data for Scania Trucks 데이터를 이용하여, 결측치와 피쳐 수가 많은 데이터에 대한 이진 분류\n",
    "- 한번 접해본 적이 있는 데이터지만, 시각화/결측치 보간/파생변수 생성 그리고 Neural Network를 활용한 모델링을 진행"
   ]
  },
  {
   "cell_type": "markdown",
   "metadata": {},
   "source": [
    "### 1. Libraries"
   ]
  },
  {
   "cell_type": "code",
   "execution_count": 1,
   "metadata": {},
   "outputs": [],
   "source": [
    "import warnings\n",
    "warnings.filterwarnings('ignore')\n",
    "\n",
    "import time\n",
    "import random\n",
    "\n",
    "import pandas as pd\n",
    "import numpy as np\n",
    "import matplotlib.pyplot as plt\n",
    "import seaborn as sns\n",
    "from tqdm import tqdm\n",
    "\n",
    "import torch\n",
    "from torch import optim\n",
    "import torch.nn as nn\n",
    "from torch.utils.data import Dataset, DataLoader\n",
    "from torchsummary import summary\n",
    "from torchmetrics import Metric\n",
    "from torchmetrics.classification import BinaryF1Score, BinaryAccuracy\n",
    "\n",
    "from sklearn.model_selection import train_test_split\n",
    "from sklearn.ensemble import IsolationForest"
   ]
  },
  {
   "cell_type": "code",
   "execution_count": 2,
   "metadata": {},
   "outputs": [
    {
     "name": "stdout",
     "output_type": "stream",
     "text": [
      "cpu\n"
     ]
    }
   ],
   "source": [
    "device = torch.device('cuda' if torch.cuda.is_available() else 'cpu')\n",
    "print(device)"
   ]
  },
  {
   "cell_type": "code",
   "execution_count": 3,
   "metadata": {},
   "outputs": [],
   "source": [
    "# 시드 고정\n",
    "def fixSEED(seed, deterministic=True):\n",
    "    random.seed(seed)\n",
    "    np.random.seed(seed)\n",
    "    torch.manual_seed(seed)\n",
    "    torch.cuda.manual_seed_all(seed)\n",
    "    if deterministic:\n",
    "        torch.backends.cudnn.deterministic = True\n",
    "        torch.backends.cudnn.benchmark = False\n",
    "\n",
    "fixSEED(seed=42)"
   ]
  },
  {
   "cell_type": "markdown",
   "metadata": {},
   "source": [
    "### 2. EDA"
   ]
  },
  {
   "cell_type": "code",
   "execution_count": 4,
   "metadata": {},
   "outputs": [],
   "source": [
    "# 데이터 불러오기\n",
    "train = pd.read_csv('training_set.csv', encoding='utf-8-sig')\n",
    "test = pd.read_csv('test_set.csv', encoding='utf-8-sig')"
   ]
  },
  {
   "cell_type": "code",
   "execution_count": 5,
   "metadata": {},
   "outputs": [
    {
     "name": "stdout",
     "output_type": "stream",
     "text": [
      "--------Train data 기본 정보---------\n",
      "55000개의 행과 172개의 열이 있습니다.\n",
      "\n",
      "--------Train data 데이터 타입---------\n",
      "[dtype('O') dtype('int64') dtype('float64')]\n"
     ]
    }
   ],
   "source": [
    "# 데이터 기본 정보 확인\n",
    "print('--------Train data 기본 정보---------')\n",
    "print('{}개의 행과 {}개의 열이 있습니다.'.format(train.shape[0], train.shape[1]))\n",
    "print()\n",
    "print('--------Train data 데이터 타입---------')\n",
    "print(train.dtypes.unique())"
   ]
  },
  {
   "cell_type": "code",
   "execution_count": 6,
   "metadata": {},
   "outputs": [],
   "source": [
    "# ID_code 열 삭제\n",
    "train.drop(['ID_code'], axis=1, inplace=True)\n",
    "test.drop(['ID_code'], axis=1, inplace=True)"
   ]
  },
  {
   "cell_type": "code",
   "execution_count": 7,
   "metadata": {},
   "outputs": [],
   "source": [
    "# 결측치 비율 확인\n",
    "def missing_percentage(column, threshold):\n",
    "    rows_missing = column.isna().sum()\n",
    "    rows = len(column)\n",
    "    percentage = rows_missing/rows * 100\n",
    "\n",
    "    if percentage >= threshold:\n",
    "        print('{}열의 결측치 개수는 {}개이고, 비율은 {:.4f}입니다.'.format(column.name, rows_missing, percentage))\n",
    "\n",
    "    return percentage"
   ]
  },
  {
   "cell_type": "code",
   "execution_count": 8,
   "metadata": {},
   "outputs": [
    {
     "name": "stdout",
     "output_type": "stream",
     "text": [
      "X2열의 결측치 개수는 42415개이고, 비율은 77.1182입니다.\n",
      "X39열의 결측치 개수는 40365개이고, 비율은 73.3909입니다.\n",
      "X40열의 결측치 개수는 42482개이고, 비율은 77.2400입니다.\n",
      "X41열의 결측치 개수는 43766개이고, 비율은 79.5745입니다.\n",
      "X42열의 결측치 개수는 44660개이고, 비율은 81.2000입니다.\n",
      "X43열의 결측치 개수는 45161개이고, 비율은 82.1109입니다.\n",
      "X68열의 결측치 개수는 42415개이고, 비율은 77.1182입니다.\n"
     ]
    },
    {
     "data": {
      "text/plain": [
       "class     0.000000\n",
       "X1        0.000000\n",
       "X2       77.118182\n",
       "X3        5.565455\n",
       "X4       24.720000\n",
       "           ...    \n",
       "X105h     1.109091\n",
       "X105i     1.109091\n",
       "X105j     1.109091\n",
       "X106      4.516364\n",
       "X107      4.514545\n",
       "Length: 171, dtype: float64"
      ]
     },
     "execution_count": 8,
     "metadata": {},
     "output_type": "execute_result"
    }
   ],
   "source": [
    "# 결측치 70% 이상인 변수 확인\n",
    "train.apply(lambda x: missing_percentage(x, threshold=70), axis=0)"
   ]
  },
  {
   "cell_type": "markdown",
   "metadata": {},
   "source": [
    "### 3. Pre-process"
   ]
  },
  {
   "cell_type": "markdown",
   "metadata": {},
   "source": [
    "#### (1) 결측치 70% 이상인 열 제거"
   ]
  },
  {
   "cell_type": "code",
   "execution_count": 9,
   "metadata": {},
   "outputs": [
    {
     "name": "stdout",
     "output_type": "stream",
     "text": [
      "164\n"
     ]
    }
   ],
   "source": [
    "# 결측치 70% 이상인 열 제거\n",
    "missing_drop_var = ['X2', 'X39', 'X40', 'X41', 'X42', 'X43', 'X68']\n",
    "\n",
    "train.drop(columns=missing_drop_var, axis=1, inplace=True)\n",
    "test.drop(columns=missing_drop_var, axis=1, inplace=True)\n",
    "\n",
    "print(train.shape[1])"
   ]
  },
  {
   "cell_type": "markdown",
   "metadata": {},
   "source": [
    "#### (2) 결측치 보간"
   ]
  },
  {
   "cell_type": "markdown",
   "metadata": {},
   "source": [
    "- 결측치가 많이 발생하는 변수는 삭제해줬다.\n",
    "- 따라서 KNN 등의 방법이 아닌 **중앙값**으로 결측치를 보간해준다."
   ]
  },
  {
   "cell_type": "code",
   "execution_count": 10,
   "metadata": {},
   "outputs": [],
   "source": [
    "# train data\n",
    "for var in train.columns:\n",
    "    if train[var].isna().sum() != 0:\n",
    "        train[var][train[var].isna()] = train[var].median()\n",
    "\n",
    "# test data\n",
    "for var in test.columns:\n",
    "    if test[var].isna().sum() != 0:\n",
    "        test[var][test[var].isna()] = test[var].median()"
   ]
  },
  {
   "cell_type": "code",
   "execution_count": 11,
   "metadata": {},
   "outputs": [
    {
     "data": {
      "text/plain": [
       "class    0\n",
       "X1       0\n",
       "X3       0\n",
       "X4       0\n",
       "X5       0\n",
       "        ..\n",
       "X105h    0\n",
       "X105i    0\n",
       "X105j    0\n",
       "X106     0\n",
       "X107     0\n",
       "Length: 164, dtype: int64"
      ]
     },
     "execution_count": 11,
     "metadata": {},
     "output_type": "execute_result"
    }
   ],
   "source": [
    "# 결측치 확인\n",
    "train.isna().sum()"
   ]
  },
  {
   "cell_type": "markdown",
   "metadata": {},
   "source": [
    "### 4. Dataset 및 Dataloader 정의"
   ]
  },
  {
   "cell_type": "markdown",
   "metadata": {},
   "source": [
    "- 이제 학습 데이터는 모두 완료되었다.\n",
    "- 학습용 데이터를 완성하고 이를 신경망에 입력하기 위한 데이터로더로 정의하자."
   ]
  },
  {
   "cell_type": "code",
   "execution_count": 12,
   "metadata": {},
   "outputs": [],
   "source": [
    "# target, label 분리\n",
    "X = train.drop(columns='class', axis=1)\n",
    "y = train['class']"
   ]
  },
  {
   "cell_type": "code",
   "execution_count": 13,
   "metadata": {},
   "outputs": [],
   "source": [
    "# Train 데이터, Test 데이터 분할\n",
    "X_train, X_val, y_train, y_val = train_test_split(X, y, test_size=0.2, random_state=42, stratify=y) # 클래스 불균형 데이터이기 때문에 stratify 적용"
   ]
  },
  {
   "cell_type": "code",
   "execution_count": 14,
   "metadata": {},
   "outputs": [],
   "source": [
    "class CustomDataset(Dataset):\n",
    "    def __init__(self, X_data: pd.DataFrame, y_data: pd.Series):\n",
    "\n",
    "        # X_data와 y_data를 텐서로 변환\n",
    "        self.X_data = torch.tensor(X_data.values, dtype=torch.float32)\n",
    "        self.y_data = torch.tensor(y_data.values, dtype=torch.float32)\n",
    "        \n",
    "        # 크기 확인\n",
    "        assert self.X_data.shape[0] == self.y_data.shape[0], \"Feature와 Target의 길이가 일치하지 않습니다.\"\n",
    "\n",
    "    def __len__(self):\n",
    "        return len(self.y_data)\n",
    "\n",
    "    def __getitem__(self, idx):\n",
    "        x = self.X_data[idx]\n",
    "        y = self.y_data[idx]\n",
    "\n",
    "        return x, y"
   ]
  },
  {
   "cell_type": "markdown",
   "metadata": {},
   "source": [
    "**참고**\n",
    "- csv 형식의 데이터를 tensor로 만들어주기 위해서는 .values를 사용해야 한다.\n",
    "- [Stackoverflow](https://stackoverflow.com/questions/51858067/parsing-csv-into-pytorch-tensors)를 참고함"
   ]
  },
  {
   "cell_type": "code",
   "execution_count": 15,
   "metadata": {},
   "outputs": [
    {
     "name": "stdout",
     "output_type": "stream",
     "text": [
      "(44000, 163) (44000,)\n"
     ]
    }
   ],
   "source": [
    "# DataLoader 데이터 확인 및 Tensor 변환\n",
    "print(X_train.shape, y_train.shape)  # X_train과 y_train shape 확인\n",
    "assert X_train.shape[1] == 163, \"Feature 개수 확인 필요\"\n",
    "assert len(y_train.shape) == 1, \"Target shape이 (N,)인지 확인 필요\""
   ]
  },
  {
   "cell_type": "markdown",
   "metadata": {},
   "source": [
    "### 5. 모델 학습을 위한 함수 정의"
   ]
  },
  {
   "cell_type": "code",
   "execution_count": 16,
   "metadata": {},
   "outputs": [],
   "source": [
    "# Trainer 함수에서 수정\n",
    "def train_model(model, train_dataloader, criterion, optimizer, acc_metric, f1_metric, custom_metric, device):\n",
    "    model.train()\n",
    "    train_loss, train_acc, train_f1, train_cost = 0, 0, 0, 0\n",
    "\n",
    "    for x, y in tqdm(train_dataloader, desc=\"Training\"):\n",
    "        x, y = x.to(device), y.to(device)\n",
    "\n",
    "        outputs = model(x)\n",
    "        loss = criterion(outputs, y)\n",
    "\n",
    "        optimizer.zero_grad()\n",
    "        loss.backward()\n",
    "        optimizer.step()\n",
    "\n",
    "        preds = torch.sigmoid(outputs).round()  # Sigmoid 적용 후 0/1 변환\n",
    "        train_loss += loss.item()\n",
    "        train_acc += acc_metric(preds, y).item()\n",
    "        train_f1 += f1_metric(preds, y).item()\n",
    "        train_cost += custom_metric(preds, y).item()\n",
    "\n",
    "    return (\n",
    "        train_loss / len(train_dataloader),\n",
    "        train_acc / len(train_dataloader),\n",
    "        train_f1 / len(train_dataloader),\n",
    "        train_cost / len(train_dataloader),\n",
    "    )\n",
    "\n",
    "def valid_model(model, valid_dataloader, criterion, acc_metric, f1_metric, custom_metric, device):\n",
    "    model.eval()\n",
    "    valid_loss, valid_acc, valid_f1, valid_cost = 0, 0, 0, 0\n",
    "\n",
    "    with torch.no_grad():\n",
    "        for x, y in tqdm(valid_dataloader, desc=\"Validation\"):\n",
    "            x, y = x.to(device), y.to(device)\n",
    "\n",
    "            outputs = model(x)\n",
    "            loss = criterion(outputs, y)\n",
    "\n",
    "            preds = torch.sigmoid(outputs).round()  # Sigmoid 적용 후 0/1 변환\n",
    "            valid_loss += loss.item()\n",
    "            valid_acc += acc_metric(preds, y).item()\n",
    "            valid_f1 += f1_metric(preds, y).item()\n",
    "            valid_cost += custom_metric(preds, y).item()\n",
    "\n",
    "    return (\n",
    "        valid_loss / len(valid_dataloader),\n",
    "        valid_acc / len(valid_dataloader),\n",
    "        valid_f1 / len(valid_dataloader),\n",
    "        valid_cost / len(valid_dataloader),\n",
    "    )\n",
    "\n",
    "def trainer(model, train_dataloader, valid_dataloader, criterion, optimizer, scheduler, acc_metric, f1_metric, custom_metric, device, num_epochs, wait_for_es, save=False):\n",
    "    train_loss_history, train_acc_history, train_f1_history, train_cost_history = [], [], [], []  # 훈련 기록\n",
    "    valid_loss_history, valid_acc_history, valid_f1_history, valid_cost_history = [], [], [], []  # 평가 기록\n",
    "\n",
    "    best_loss = float('inf')\n",
    "    best_acc = 0\n",
    "    count = 0\n",
    "\n",
    "    start_time = time.time()\n",
    "\n",
    "    for epoch in range(num_epochs):\n",
    "        print('-' * 80)\n",
    "        print(f'Epoch {epoch + 1}/{num_epochs}')\n",
    "        print('-' * 80)\n",
    "\n",
    "        train_loss, train_acc, train_f1, train_cost = train_model(\n",
    "            model, train_dataloader, criterion, optimizer, acc_metric, f1_metric, custom_metric, device\n",
    "        )\n",
    "        valid_loss, valid_acc, valid_f1, valid_cost = valid_model(\n",
    "            model, valid_dataloader, criterion, acc_metric, f1_metric, custom_metric, device\n",
    "        )\n",
    "\n",
    "        scheduler.step()  # 학습률 감소 스케줄 적용\n",
    "\n",
    "        train_loss_history.append(train_loss)\n",
    "        train_acc_history.append(train_acc)\n",
    "        train_f1_history.append(train_f1)\n",
    "        train_cost_history.append(train_cost)\n",
    "\n",
    "        valid_loss_history.append(valid_loss)\n",
    "        valid_acc_history.append(valid_acc)\n",
    "        valid_f1_history.append(valid_f1)\n",
    "        valid_cost_history.append(valid_cost)\n",
    "\n",
    "        elapsed_time = time.time() - start_time\n",
    "\n",
    "        print(f'[Train] Loss: {train_loss:.4f}, Acc: {train_acc:.4f}, F1: {train_f1:.4f}, Cost: {train_cost:.4f}')\n",
    "        print(f'[Valid] Loss: {valid_loss:.4f}, Acc: {valid_acc:.4f}, F1: {valid_f1:.4f}, Cost: {valid_cost:.4f}')\n",
    "        print(f'(Epoch {epoch + 1} complete in {elapsed_time // 60:.0f}m {elapsed_time % 60:.0f}s)')\n",
    "\n",
    "        if save and valid_acc > best_acc:\n",
    "            best_acc = valid_acc\n",
    "            torch.save(model.state_dict(), f'./model/CustomDNN_epoch{epoch + 1}.pth')\n",
    "\n",
    "        if valid_loss < best_loss:\n",
    "            best_loss = valid_loss\n",
    "            count = 0  # Early stopping 조건 초기화\n",
    "        else:\n",
    "            count += 1\n",
    "            if count >= wait_for_es:\n",
    "                print(f'-----<Early Stopping at Epoch {epoch + 1}>-----')\n",
    "                break\n",
    "\n",
    "    return train_loss_history, train_acc_history, train_f1_history, train_cost_history, valid_loss_history, valid_acc_history, valid_f1_history, valid_cost_history"
   ]
  },
  {
   "cell_type": "code",
   "execution_count": 17,
   "metadata": {},
   "outputs": [],
   "source": [
    "class CustomMetric(Metric):\n",
    "    def __init__(self):\n",
    "        super().__init__()\n",
    "        # 상태 변수 정의\n",
    "        self.add_state(\"false_negatives\", default=torch.tensor(0), dist_reduce_fx=\"sum\")\n",
    "        self.add_state(\"false_positives\", default=torch.tensor(0), dist_reduce_fx=\"sum\")\n",
    "\n",
    "    def update(self, preds: torch.Tensor, target: torch.Tensor):\n",
    "        \"\"\"\n",
    "        Metric 업데이트: preds와 target을 비교하여 false negatives와 false positives를 계산.\n",
    "        \"\"\"\n",
    "        # 0 또는 1로 이진화\n",
    "        preds = torch.round(torch.sigmoid(preds))  # Sigmoid 적용 후 이진화\n",
    "        target = target.int()  # target도 정수로 변환\n",
    "\n",
    "        # False negatives: 실제 1인데 예측이 0인 경우\n",
    "        self.false_negatives += ((preds == 0) & (target == 1)).sum().item()\n",
    "        # False positives: 실제 0인데 예측이 1인 경우\n",
    "        self.false_positives += ((preds == 1) & (target == 0)).sum().item()\n",
    "\n",
    "    def compute(self):\n",
    "        \"\"\"\n",
    "        최종 Metric 계산: false negatives와 false positives를 기반으로 cost 계산.\n",
    "        \"\"\"\n",
    "        return 250 * self.false_negatives + 5 * self.false_positives\n"
   ]
  },
  {
   "cell_type": "markdown",
   "metadata": {},
   "source": [
    "이제 학습을 평가하기 위한 Metric을 작성한다. 정확도와 F1 점수는 PyTorch Metrics이 존재하지만, Cost 함수는 존재하기 없기 때문에 Custom Metrics을 작성해야 한다.\n",
    "- 다음의 [링크](https://lightning.ai/docs/torchmetrics/stable/pages/implement.html)를 참고해서 작성했다."
   ]
  },
  {
   "cell_type": "markdown",
   "metadata": {},
   "source": [
    "### 6. 모델 정의"
   ]
  },
  {
   "cell_type": "markdown",
   "metadata": {},
   "source": [
    "모델 학습과 평가를 위한 함수를 모두 작성했다. 이제 모델을 정의하고 학습시켜보자."
   ]
  },
  {
   "cell_type": "code",
   "execution_count": 18,
   "metadata": {},
   "outputs": [],
   "source": [
    "class CustomDNN(nn.Module):\n",
    "    def __init__(self):\n",
    "        super(CustomDNN, self).__init__()\n",
    "        self.fc1 = nn.Linear(in_features=163, out_features=80)\n",
    "        self.relu1 = nn.ReLU()\n",
    "        self.drop1 = nn.Dropout(0.3)\n",
    "        self.fc2 = nn.Linear(in_features=80, out_features=40)\n",
    "        self.relu2 = nn.ReLU()\n",
    "        self.drop2 = nn.Dropout(0.3)\n",
    "        self.fc3 = nn.Linear(in_features=40, out_features=1)\n",
    "\n",
    "    def forward(self, x):\n",
    "        out = self.fc1(x)\n",
    "        out = self.relu1(out)\n",
    "        out = self.drop1(out)\n",
    "        out = self.fc2(out)\n",
    "        out = self.relu2(out)\n",
    "        out = self.drop2(out)\n",
    "        out = self.fc3(out)  # Sigmoid 제거 (BCEWithLogitsLoss 사용)\n",
    "        return out.squeeze()  # [batch_size] 형태로 조정"
   ]
  },
  {
   "cell_type": "code",
   "execution_count": 19,
   "metadata": {},
   "outputs": [
    {
     "data": {
      "text/plain": [
       "CustomDNN(\n",
       "  (fc1): Linear(in_features=163, out_features=80, bias=True)\n",
       "  (relu1): ReLU()\n",
       "  (drop1): Dropout(p=0.3, inplace=False)\n",
       "  (fc2): Linear(in_features=80, out_features=40, bias=True)\n",
       "  (relu2): ReLU()\n",
       "  (drop2): Dropout(p=0.3, inplace=False)\n",
       "  (fc3): Linear(in_features=40, out_features=1, bias=True)\n",
       ")"
      ]
     },
     "execution_count": 19,
     "metadata": {},
     "output_type": "execute_result"
    }
   ],
   "source": [
    "# 모델 정의\n",
    "model = CustomDNN()\n",
    "model.to(device)"
   ]
  },
  {
   "cell_type": "code",
   "execution_count": 20,
   "metadata": {},
   "outputs": [
    {
     "name": "stdout",
     "output_type": "stream",
     "text": [
      "----------------------------------------------------------------\n",
      "        Layer (type)               Output Shape         Param #\n",
      "================================================================\n",
      "            Linear-1                   [-1, 80]          13,120\n",
      "              ReLU-2                   [-1, 80]               0\n",
      "           Dropout-3                   [-1, 80]               0\n",
      "            Linear-4                   [-1, 40]           3,240\n",
      "              ReLU-5                   [-1, 40]               0\n",
      "           Dropout-6                   [-1, 40]               0\n",
      "            Linear-7                    [-1, 1]              41\n",
      "================================================================\n",
      "Total params: 16,401\n",
      "Trainable params: 16,401\n",
      "Non-trainable params: 0\n",
      "----------------------------------------------------------------\n",
      "Input size (MB): 0.00\n",
      "Forward/backward pass size (MB): 0.00\n",
      "Params size (MB): 0.06\n",
      "Estimated Total Size (MB): 0.07\n",
      "----------------------------------------------------------------\n"
     ]
    }
   ],
   "source": [
    "# 모델 파라미터 개수 확인\n",
    "summary(model, input_size=(163, ))"
   ]
  },
  {
   "cell_type": "code",
   "execution_count": 21,
   "metadata": {},
   "outputs": [
    {
     "name": "stdout",
     "output_type": "stream",
     "text": [
      "The model has 16,401 trainable parameters\n"
     ]
    }
   ],
   "source": [
    "# trainable parameter 확인 방법\n",
    "def count_parameter(model):\n",
    "    return sum(p.numel() for p in model.parameters() if p.requires_grad)\n",
    "\n",
    "print(f'The model has {count_parameter(model):,} trainable parameters')"
   ]
  },
  {
   "cell_type": "markdown",
   "metadata": {},
   "source": [
    "### 7. Config와 파라미터 정의"
   ]
  },
  {
   "cell_type": "code",
   "execution_count": 22,
   "metadata": {},
   "outputs": [],
   "source": [
    "pos_weight = torch.tensor(\n",
    "    [y_train.value_counts()[0] / y_train.value_counts()[1]], dtype=torch.float32\n",
    ").to(device)"
   ]
  },
  {
   "cell_type": "code",
   "execution_count": 23,
   "metadata": {},
   "outputs": [],
   "source": [
    "# 옵티마이저, 손실 함수, Metric 정의\n",
    "model = CustomDNN().to(device)\n",
    "optimizer = optim.Adam(model.parameters(), lr=0.001)  # 초기 학습률 설정\n",
    "criterion = nn.BCEWithLogitsLoss(pos_weight=pos_weight).to(device)  # 데이터 불균형 보정\n",
    "acc_metric = BinaryAccuracy(threshold=0.5).to(device)  # 0.5 기준 정확도 계산\n",
    "f1_metric = BinaryF1Score(threshold=0.5).to(device)\n",
    "custom_metric = CustomMetric().to(device)\n",
    "\n",
    "# 학습률 스케줄러 추가\n",
    "scheduler = optim.lr_scheduler.StepLR(optimizer, step_size=10, gamma=0.1)"
   ]
  },
  {
   "cell_type": "code",
   "execution_count": 24,
   "metadata": {},
   "outputs": [],
   "source": [
    "# 파라미터 정의\n",
    "num_epochs = 200\n",
    "wait_for_es = 30\n",
    "batch_size = 256"
   ]
  },
  {
   "cell_type": "code",
   "execution_count": 25,
   "metadata": {},
   "outputs": [],
   "source": [
    "# 데이터셋 정의\n",
    "train_dataset = CustomDataset(X_train, y_train)\n",
    "valid_dataset = CustomDataset(X_val, y_val)"
   ]
  },
  {
   "cell_type": "code",
   "execution_count": 26,
   "metadata": {},
   "outputs": [
    {
     "data": {
      "text/plain": [
       "[tensor([[7.2200e+03, 4.7200e+02, 4.4400e+02,  ..., 0.0000e+00, 0.0000e+00,\n",
       "          0.0000e+00],\n",
       "         [4.0682e+04, 4.8200e+02, 4.6600e+02,  ..., 3.0680e+03, 0.0000e+00,\n",
       "          0.0000e+00],\n",
       "         [1.0494e+04, 6.2000e+01, 4.8000e+01,  ..., 0.0000e+00, 0.0000e+00,\n",
       "          0.0000e+00],\n",
       "         ...,\n",
       "         [1.6000e+01, 1.6000e+01, 1.4000e+01,  ..., 0.0000e+00, 0.0000e+00,\n",
       "          0.0000e+00],\n",
       "         [0.0000e+00, 0.0000e+00, 0.0000e+00,  ..., 0.0000e+00, 0.0000e+00,\n",
       "          0.0000e+00],\n",
       "         [6.4140e+04, 2.1307e+09, 1.2860e+03,  ..., 3.5760e+03, 0.0000e+00,\n",
       "          0.0000e+00]]),\n",
       " tensor([0., 0., 0., 0., 0., 0., 0., 0., 0., 0., 0., 0., 0., 0., 0., 0., 0., 0.,\n",
       "         0., 0., 0., 0., 0., 0., 0., 0., 0., 0., 0., 0., 0., 0., 0., 0., 0., 0.,\n",
       "         0., 0., 0., 0., 0., 0., 0., 0., 0., 0., 0., 0., 0., 0., 0., 0., 0., 0.,\n",
       "         0., 0., 0., 0., 0., 0., 0., 0., 0., 0., 0., 0., 0., 0., 0., 0., 0., 0.,\n",
       "         0., 0., 0., 0., 0., 0., 0., 0., 0., 0., 0., 0., 0., 0., 0., 0., 0., 0.,\n",
       "         0., 0., 0., 0., 0., 0., 0., 0., 0., 1., 0., 0., 0., 0., 0., 0., 0., 0.,\n",
       "         0., 0., 0., 0., 0., 0., 0., 0., 0., 0., 0., 0., 0., 0., 0., 0., 0., 0.,\n",
       "         0., 0., 0., 0., 0., 0., 0., 0., 0., 0., 0., 0., 0., 0., 0., 0., 0., 0.,\n",
       "         0., 0., 0., 0., 0., 0., 0., 0., 0., 1., 0., 0., 0., 0., 0., 0., 0., 0.,\n",
       "         0., 0., 0., 0., 0., 0., 0., 0., 0., 1., 0., 0., 0., 0., 0., 0., 0., 0.,\n",
       "         0., 0., 0., 0., 0., 0., 0., 0., 0., 0., 0., 0., 0., 0., 0., 0., 0., 0.,\n",
       "         0., 0., 0., 0., 0., 0., 0., 0., 0., 0., 0., 0., 0., 0., 0., 0., 0., 0.,\n",
       "         0., 0., 0., 0., 0., 0., 0., 0., 0., 0., 0., 0., 0., 0., 0., 0., 0., 0.,\n",
       "         0., 0., 0., 0., 0., 0., 0., 0., 0., 0., 0., 0., 0., 0., 0., 0., 0., 0.,\n",
       "         0., 0., 0., 0.])]"
      ]
     },
     "execution_count": 26,
     "metadata": {},
     "output_type": "execute_result"
    }
   ],
   "source": [
    "# 데이터로더 정의\n",
    "train_dataloader = DataLoader(train_dataset, batch_size=batch_size, shuffle=True)\n",
    "val_dataloader = DataLoader(valid_dataset, batch_size=batch_size, shuffle=False)\n",
    "\n",
    "next(iter(train_dataloader))"
   ]
  },
  {
   "cell_type": "markdown",
   "metadata": {},
   "source": [
    "### 8. 학습 진행"
   ]
  },
  {
   "cell_type": "code",
   "execution_count": 27,
   "metadata": {},
   "outputs": [
    {
     "name": "stdout",
     "output_type": "stream",
     "text": [
      "--------------------------------------------------------------------------------\n",
      "Epoch 1/200\n",
      "--------------------------------------------------------------------------------\n"
     ]
    },
    {
     "name": "stderr",
     "output_type": "stream",
     "text": [
      "Training: 100%|██████████| 172/172 [00:00<00:00, 486.01it/s]\n",
      "Validation: 100%|██████████| 43/43 [00:00<00:00, 854.33it/s]\n"
     ]
    },
    {
     "name": "stdout",
     "output_type": "stream",
     "text": [
      "[Train] Loss: 453745.3114, Acc: 0.6304, F1: 0.0775, Cost: 603.8372\n",
      "[Valid] Loss: 50056.3215, Acc: 0.8641, F1: 0.1906, Cost: 213.7209\n",
      "(Epoch 1 complete in 0m 0s)\n",
      "--------------------------------------------------------------------------------\n",
      "Epoch 2/200\n",
      "--------------------------------------------------------------------------------\n"
     ]
    },
    {
     "name": "stderr",
     "output_type": "stream",
     "text": [
      "Training: 100%|██████████| 172/172 [00:00<00:00, 555.55it/s]\n",
      "Validation: 100%|██████████| 43/43 [00:00<00:00, 872.65it/s]\n"
     ]
    },
    {
     "name": "stdout",
     "output_type": "stream",
     "text": [
      "[Train] Loss: 102159.7216, Acc: 0.6577, F1: 0.0785, Cost: 584.7093\n",
      "[Valid] Loss: 12664.5519, Acc: 0.9155, F1: 0.2041, Cost: 466.9767\n",
      "(Epoch 2 complete in 0m 1s)\n",
      "--------------------------------------------------------------------------------\n",
      "Epoch 3/200\n",
      "--------------------------------------------------------------------------------\n"
     ]
    },
    {
     "name": "stderr",
     "output_type": "stream",
     "text": [
      "Training: 100%|██████████| 172/172 [00:00<00:00, 569.13it/s]\n",
      "Validation: 100%|██████████| 43/43 [00:00<00:00, 865.81it/s]\n"
     ]
    },
    {
     "name": "stdout",
     "output_type": "stream",
     "text": [
      "[Train] Loss: 29265.4253, Acc: 0.7474, F1: 0.0845, Cost: 699.1279\n",
      "[Valid] Loss: 1474.7446, Acc: 0.6047, F1: 0.0239, Cost: 1246.3953\n",
      "(Epoch 3 complete in 0m 1s)\n",
      "--------------------------------------------------------------------------------\n",
      "Epoch 4/200\n",
      "--------------------------------------------------------------------------------\n"
     ]
    },
    {
     "name": "stderr",
     "output_type": "stream",
     "text": [
      "Training: 100%|██████████| 172/172 [00:00<00:00, 422.01it/s]\n",
      "Validation: 100%|██████████| 43/43 [00:00<00:00, 882.32it/s]\n"
     ]
    },
    {
     "name": "stdout",
     "output_type": "stream",
     "text": [
      "[Train] Loss: 11988.0764, Acc: 0.8316, F1: 0.0957, Cost: 796.5698\n",
      "[Valid] Loss: 372.8645, Acc: 0.9827, F1: 0.0287, Cost: 1053.3721\n",
      "(Epoch 4 complete in 0m 2s)\n",
      "--------------------------------------------------------------------------------\n",
      "Epoch 5/200\n",
      "--------------------------------------------------------------------------------\n"
     ]
    },
    {
     "name": "stderr",
     "output_type": "stream",
     "text": [
      "Training: 100%|██████████| 172/172 [00:00<00:00, 551.65it/s]\n",
      "Validation: 100%|██████████| 43/43 [00:00<00:00, 681.90it/s]\n"
     ]
    },
    {
     "name": "stdout",
     "output_type": "stream",
     "text": [
      "[Train] Loss: 6460.9142, Acc: 0.8922, F1: 0.1029, Cost: 831.5698\n",
      "[Valid] Loss: 187.7786, Acc: 0.8222, F1: 0.0058, Cost: 1247.3256\n",
      "(Epoch 5 complete in 0m 2s)\n",
      "--------------------------------------------------------------------------------\n",
      "Epoch 6/200\n",
      "--------------------------------------------------------------------------------\n"
     ]
    },
    {
     "name": "stderr",
     "output_type": "stream",
     "text": [
      "Training: 100%|██████████| 172/172 [00:00<00:00, 450.25it/s]\n",
      "Validation: 100%|██████████| 43/43 [00:00<00:00, 753.42it/s]\n"
     ]
    },
    {
     "name": "stdout",
     "output_type": "stream",
     "text": [
      "[Train] Loss: 1845.4064, Acc: 0.8967, F1: 0.0941, Cost: 919.7384\n",
      "[Valid] Loss: 219.9700, Acc: 0.8202, F1: 0.0059, Cost: 1249.8837\n",
      "(Epoch 6 complete in 0m 2s)\n",
      "--------------------------------------------------------------------------------\n",
      "Epoch 7/200\n",
      "--------------------------------------------------------------------------------\n"
     ]
    },
    {
     "name": "stderr",
     "output_type": "stream",
     "text": [
      "Training: 100%|██████████| 172/172 [00:00<00:00, 525.53it/s]\n",
      "Validation: 100%|██████████| 43/43 [00:00<00:00, 524.95it/s]\n"
     ]
    },
    {
     "name": "stdout",
     "output_type": "stream",
     "text": [
      "[Train] Loss: 1130.8127, Acc: 0.9257, F1: 0.1023, Cost: 878.0523\n",
      "[Valid] Loss: 15.3075, Acc: 0.2941, F1: 0.0451, Cost: 908.6047\n",
      "(Epoch 7 complete in 0m 3s)\n",
      "--------------------------------------------------------------------------------\n",
      "Epoch 8/200\n",
      "--------------------------------------------------------------------------------\n"
     ]
    },
    {
     "name": "stderr",
     "output_type": "stream",
     "text": [
      "Training: 100%|██████████| 172/172 [00:00<00:00, 526.47it/s]\n",
      "Validation: 100%|██████████| 43/43 [00:00<00:00, 849.21it/s]\n"
     ]
    },
    {
     "name": "stdout",
     "output_type": "stream",
     "text": [
      "[Train] Loss: 1119.1742, Acc: 0.4415, F1: 0.0534, Cost: 772.8198\n",
      "[Valid] Loss: 24.4401, Acc: 0.3376, F1: 0.0479, Cost: 853.0233\n",
      "(Epoch 8 complete in 0m 3s)\n",
      "--------------------------------------------------------------------------------\n",
      "Epoch 9/200\n",
      "--------------------------------------------------------------------------------\n"
     ]
    },
    {
     "name": "stderr",
     "output_type": "stream",
     "text": [
      "Training: 100%|██████████| 172/172 [00:00<00:00, 448.64it/s]\n",
      "Validation: 100%|██████████| 43/43 [00:00<00:00, 833.98it/s]\n"
     ]
    },
    {
     "name": "stdout",
     "output_type": "stream",
     "text": [
      "[Train] Loss: 734.8947, Acc: 0.3898, F1: 0.0497, Cost: 830.2907\n",
      "[Valid] Loss: 13.3029, Acc: 0.3272, F1: 0.0472, Cost: 866.2791\n",
      "(Epoch 9 complete in 0m 4s)\n",
      "--------------------------------------------------------------------------------\n",
      "Epoch 10/200\n",
      "--------------------------------------------------------------------------------\n"
     ]
    },
    {
     "name": "stderr",
     "output_type": "stream",
     "text": [
      "Training: 100%|██████████| 172/172 [00:00<00:00, 479.96it/s]\n",
      "Validation: 100%|██████████| 43/43 [00:00<00:00, 832.25it/s]\n"
     ]
    },
    {
     "name": "stdout",
     "output_type": "stream",
     "text": [
      "[Train] Loss: 599.5480, Acc: 0.3448, F1: 0.0466, Cost: 885.0291\n",
      "[Valid] Loss: 15.1616, Acc: 0.3253, F1: 0.0470, Cost: 868.7209\n",
      "(Epoch 10 complete in 0m 4s)\n",
      "--------------------------------------------------------------------------------\n",
      "Epoch 11/200\n",
      "--------------------------------------------------------------------------------\n"
     ]
    },
    {
     "name": "stderr",
     "output_type": "stream",
     "text": [
      "Training: 100%|██████████| 172/172 [00:00<00:00, 542.65it/s]\n",
      "Validation: 100%|██████████| 43/43 [00:00<00:00, 839.37it/s]\n"
     ]
    },
    {
     "name": "stdout",
     "output_type": "stream",
     "text": [
      "[Train] Loss: 573.8720, Acc: 0.3160, F1: 0.0455, Cost: 899.1279\n",
      "[Valid] Loss: 14.9447, Acc: 0.3249, F1: 0.0470, Cost: 869.1860\n",
      "(Epoch 11 complete in 0m 4s)\n",
      "--------------------------------------------------------------------------------\n",
      "Epoch 12/200\n",
      "--------------------------------------------------------------------------------\n"
     ]
    },
    {
     "name": "stderr",
     "output_type": "stream",
     "text": [
      "Training: 100%|██████████| 172/172 [00:00<00:00, 455.55it/s]\n",
      "Validation: 100%|██████████| 43/43 [00:00<00:00, 819.46it/s]\n"
     ]
    },
    {
     "name": "stdout",
     "output_type": "stream",
     "text": [
      "[Train] Loss: 414.0298, Acc: 0.2941, F1: 0.0442, Cost: 931.4244\n",
      "[Valid] Loss: 15.4464, Acc: 0.3241, F1: 0.0469, Cost: 870.2326\n",
      "(Epoch 12 complete in 0m 5s)\n",
      "--------------------------------------------------------------------------------\n",
      "Epoch 13/200\n",
      "--------------------------------------------------------------------------------\n"
     ]
    },
    {
     "name": "stderr",
     "output_type": "stream",
     "text": [
      "Training: 100%|██████████| 172/172 [00:00<00:00, 506.58it/s]\n",
      "Validation: 100%|██████████| 43/43 [00:00<00:00, 837.31it/s]\n"
     ]
    },
    {
     "name": "stdout",
     "output_type": "stream",
     "text": [
      "[Train] Loss: 295.3841, Acc: 0.3209, F1: 0.0457, Cost: 898.5465\n",
      "[Valid] Loss: 16.2045, Acc: 0.3216, F1: 0.0468, Cost: 873.3721\n",
      "(Epoch 13 complete in 0m 5s)\n",
      "--------------------------------------------------------------------------------\n",
      "Epoch 14/200\n",
      "--------------------------------------------------------------------------------\n"
     ]
    },
    {
     "name": "stderr",
     "output_type": "stream",
     "text": [
      "Training: 100%|██████████| 172/172 [00:00<00:00, 457.11it/s]\n",
      "Validation: 100%|██████████| 43/43 [00:00<00:00, 848.78it/s]\n"
     ]
    },
    {
     "name": "stdout",
     "output_type": "stream",
     "text": [
      "[Train] Loss: 248.6017, Acc: 0.2897, F1: 0.0444, Cost: 924.1860\n",
      "[Valid] Loss: 16.6130, Acc: 0.3231, F1: 0.0469, Cost: 871.5116\n",
      "(Epoch 14 complete in 0m 6s)\n",
      "--------------------------------------------------------------------------------\n",
      "Epoch 15/200\n",
      "--------------------------------------------------------------------------------\n"
     ]
    },
    {
     "name": "stderr",
     "output_type": "stream",
     "text": [
      "Training: 100%|██████████| 172/172 [00:00<00:00, 555.17it/s]\n",
      "Validation: 100%|██████████| 43/43 [00:00<00:00, 862.48it/s]\n"
     ]
    },
    {
     "name": "stdout",
     "output_type": "stream",
     "text": [
      "[Train] Loss: 223.2320, Acc: 0.3087, F1: 0.0456, Cost: 899.7965\n",
      "[Valid] Loss: 16.6048, Acc: 0.2481, F1: 0.0425, Cost: 967.4419\n",
      "(Epoch 15 complete in 0m 6s)\n",
      "--------------------------------------------------------------------------------\n",
      "Epoch 16/200\n",
      "--------------------------------------------------------------------------------\n"
     ]
    },
    {
     "name": "stderr",
     "output_type": "stream",
     "text": [
      "Training: 100%|██████████| 172/172 [00:00<00:00, 552.26it/s]\n",
      "Validation: 100%|██████████| 43/43 [00:00<00:00, 853.58it/s]\n"
     ]
    },
    {
     "name": "stdout",
     "output_type": "stream",
     "text": [
      "[Train] Loss: 492.3048, Acc: 0.3112, F1: 0.0449, Cost: 922.3837\n",
      "[Valid] Loss: 16.8835, Acc: 0.3245, F1: 0.0470, Cost: 869.7674\n",
      "(Epoch 16 complete in 0m 6s)\n",
      "--------------------------------------------------------------------------------\n",
      "Epoch 17/200\n",
      "--------------------------------------------------------------------------------\n"
     ]
    },
    {
     "name": "stderr",
     "output_type": "stream",
     "text": [
      "Training: 100%|██████████| 172/172 [00:00<00:00, 503.60it/s]\n",
      "Validation: 100%|██████████| 43/43 [00:00<00:00, 861.78it/s]\n"
     ]
    },
    {
     "name": "stdout",
     "output_type": "stream",
     "text": [
      "[Train] Loss: 249.1754, Acc: 0.3350, F1: 0.0463, Cost: 887.6744\n",
      "[Valid] Loss: 16.8944, Acc: 0.3235, F1: 0.0469, Cost: 871.0465\n",
      "(Epoch 17 complete in 0m 7s)\n",
      "--------------------------------------------------------------------------------\n",
      "Epoch 18/200\n",
      "--------------------------------------------------------------------------------\n"
     ]
    },
    {
     "name": "stderr",
     "output_type": "stream",
     "text": [
      "Training: 100%|██████████| 172/172 [00:00<00:00, 561.01it/s]\n",
      "Validation: 100%|██████████| 43/43 [00:00<00:00, 851.00it/s]\n"
     ]
    },
    {
     "name": "stdout",
     "output_type": "stream",
     "text": [
      "[Train] Loss: 575.4218, Acc: 0.3371, F1: 0.0470, Cost: 870.7267\n",
      "[Valid] Loss: 12.6366, Acc: 0.3214, F1: 0.0468, Cost: 873.7209\n",
      "(Epoch 18 complete in 0m 7s)\n",
      "--------------------------------------------------------------------------------\n",
      "Epoch 19/200\n",
      "--------------------------------------------------------------------------------\n"
     ]
    },
    {
     "name": "stderr",
     "output_type": "stream",
     "text": [
      "Training: 100%|██████████| 172/172 [00:00<00:00, 460.99it/s]\n",
      "Validation: 100%|██████████| 43/43 [00:00<00:00, 841.98it/s]\n"
     ]
    },
    {
     "name": "stdout",
     "output_type": "stream",
     "text": [
      "[Train] Loss: 268.4250, Acc: 0.3297, F1: 0.0462, Cost: 891.5698\n",
      "[Valid] Loss: 12.4292, Acc: 0.3215, F1: 0.0468, Cost: 873.6047\n",
      "(Epoch 19 complete in 0m 8s)\n",
      "--------------------------------------------------------------------------------\n",
      "Epoch 20/200\n",
      "--------------------------------------------------------------------------------\n"
     ]
    },
    {
     "name": "stderr",
     "output_type": "stream",
     "text": [
      "Training: 100%|██████████| 172/172 [00:00<00:00, 561.30it/s]\n",
      "Validation: 100%|██████████| 43/43 [00:00<00:00, 832.04it/s]\n"
     ]
    },
    {
     "name": "stdout",
     "output_type": "stream",
     "text": [
      "[Train] Loss: 204.0685, Acc: 0.3390, F1: 0.0470, Cost: 868.2849\n",
      "[Valid] Loss: 11.6789, Acc: 0.3220, F1: 0.0468, Cost: 872.9070\n",
      "(Epoch 20 complete in 0m 8s)\n",
      "--------------------------------------------------------------------------------\n",
      "Epoch 21/200\n",
      "--------------------------------------------------------------------------------\n"
     ]
    },
    {
     "name": "stderr",
     "output_type": "stream",
     "text": [
      "Training: 100%|██████████| 172/172 [00:00<00:00, 562.40it/s]\n",
      "Validation: 100%|██████████| 43/43 [00:00<00:00, 833.83it/s]\n"
     ]
    },
    {
     "name": "stdout",
     "output_type": "stream",
     "text": [
      "[Train] Loss: 791.2026, Acc: 0.3543, F1: 0.0478, Cost: 855.8430\n",
      "[Valid] Loss: 11.5606, Acc: 0.3216, F1: 0.0468, Cost: 873.3721\n",
      "(Epoch 21 complete in 0m 8s)\n",
      "--------------------------------------------------------------------------------\n",
      "Epoch 22/200\n",
      "--------------------------------------------------------------------------------\n"
     ]
    },
    {
     "name": "stderr",
     "output_type": "stream",
     "text": [
      "Training: 100%|██████████| 172/172 [00:00<00:00, 551.41it/s]\n",
      "Validation: 100%|██████████| 43/43 [00:00<00:00, 870.50it/s]\n"
     ]
    },
    {
     "name": "stdout",
     "output_type": "stream",
     "text": [
      "[Train] Loss: 208.8942, Acc: 0.3439, F1: 0.0478, Cost: 852.0349\n",
      "[Valid] Loss: 11.5064, Acc: 0.3216, F1: 0.0468, Cost: 873.4884\n",
      "(Epoch 22 complete in 0m 9s)\n",
      "--------------------------------------------------------------------------------\n",
      "Epoch 23/200\n",
      "--------------------------------------------------------------------------------\n"
     ]
    },
    {
     "name": "stderr",
     "output_type": "stream",
     "text": [
      "Training: 100%|██████████| 172/172 [00:00<00:00, 470.64it/s]\n",
      "Validation: 100%|██████████| 43/43 [00:00<00:00, 849.60it/s]\n"
     ]
    },
    {
     "name": "stdout",
     "output_type": "stream",
     "text": [
      "[Train] Loss: 136.4055, Acc: 0.2970, F1: 0.0440, Cost: 932.0058\n",
      "[Valid] Loss: 11.4598, Acc: 0.3027, F1: 0.0456, Cost: 897.6744\n",
      "(Epoch 23 complete in 0m 9s)\n",
      "--------------------------------------------------------------------------------\n",
      "Epoch 24/200\n",
      "--------------------------------------------------------------------------------\n"
     ]
    },
    {
     "name": "stderr",
     "output_type": "stream",
     "text": [
      "Training: 100%|██████████| 172/172 [00:00<00:00, 562.51it/s]\n",
      "Validation: 100%|██████████| 43/43 [00:00<00:00, 365.48it/s]\n"
     ]
    },
    {
     "name": "stdout",
     "output_type": "stream",
     "text": [
      "[Train] Loss: 102.6238, Acc: 0.3403, F1: 0.0462, Cost: 887.8779\n",
      "[Valid] Loss: 11.4523, Acc: 0.2409, F1: 0.0421, Cost: 976.6279\n",
      "(Epoch 24 complete in 0m 10s)\n",
      "--------------------------------------------------------------------------------\n",
      "Epoch 25/200\n",
      "--------------------------------------------------------------------------------\n"
     ]
    },
    {
     "name": "stderr",
     "output_type": "stream",
     "text": [
      "Training: 100%|██████████| 172/172 [00:00<00:00, 515.84it/s]\n",
      "Validation: 100%|██████████| 43/43 [00:00<00:00, 826.88it/s]\n"
     ]
    },
    {
     "name": "stdout",
     "output_type": "stream",
     "text": [
      "[Train] Loss: 485.6256, Acc: 0.3111, F1: 0.0448, Cost: 919.5640\n",
      "[Valid] Loss: 11.3385, Acc: 0.2941, F1: 0.0451, Cost: 908.6047\n",
      "(Epoch 25 complete in 0m 10s)\n",
      "--------------------------------------------------------------------------------\n",
      "Epoch 26/200\n",
      "--------------------------------------------------------------------------------\n"
     ]
    },
    {
     "name": "stderr",
     "output_type": "stream",
     "text": [
      "Training: 100%|██████████| 172/172 [00:00<00:00, 479.97it/s]\n",
      "Validation: 100%|██████████| 43/43 [00:00<00:00, 846.44it/s]\n"
     ]
    },
    {
     "name": "stdout",
     "output_type": "stream",
     "text": [
      "[Train] Loss: 677.4512, Acc: 0.3321, F1: 0.0465, Cost: 884.2442\n",
      "[Valid] Loss: 11.4494, Acc: 0.2387, F1: 0.0420, Cost: 979.5349\n",
      "(Epoch 26 complete in 0m 10s)\n",
      "--------------------------------------------------------------------------------\n",
      "Epoch 27/200\n",
      "--------------------------------------------------------------------------------\n"
     ]
    },
    {
     "name": "stderr",
     "output_type": "stream",
     "text": [
      "Training: 100%|██████████| 172/172 [00:00<00:00, 533.49it/s]\n",
      "Validation: 100%|██████████| 43/43 [00:00<00:00, 785.00it/s]\n"
     ]
    },
    {
     "name": "stdout",
     "output_type": "stream",
     "text": [
      "[Train] Loss: 113.1445, Acc: 0.3029, F1: 0.0447, Cost: 921.5116\n",
      "[Valid] Loss: 11.4449, Acc: 0.2339, F1: 0.0417, Cost: 985.5814\n",
      "(Epoch 27 complete in 0m 11s)\n",
      "--------------------------------------------------------------------------------\n",
      "Epoch 28/200\n",
      "--------------------------------------------------------------------------------\n"
     ]
    },
    {
     "name": "stderr",
     "output_type": "stream",
     "text": [
      "Training: 100%|██████████| 172/172 [00:00<00:00, 561.16it/s]\n",
      "Validation: 100%|██████████| 43/43 [00:00<00:00, 798.34it/s]\n"
     ]
    },
    {
     "name": "stdout",
     "output_type": "stream",
     "text": [
      "[Train] Loss: 1136.0575, Acc: 0.3400, F1: 0.0464, Cost: 887.0058\n",
      "[Valid] Loss: 11.1462, Acc: 0.3115, F1: 0.0462, Cost: 886.3953\n",
      "(Epoch 28 complete in 0m 11s)\n",
      "--------------------------------------------------------------------------------\n",
      "Epoch 29/200\n",
      "--------------------------------------------------------------------------------\n"
     ]
    },
    {
     "name": "stderr",
     "output_type": "stream",
     "text": [
      "Training: 100%|██████████| 172/172 [00:00<00:00, 541.97it/s]\n",
      "Validation: 100%|██████████| 43/43 [00:00<00:00, 853.29it/s]\n"
     ]
    },
    {
     "name": "stdout",
     "output_type": "stream",
     "text": [
      "[Train] Loss: 290.3226, Acc: 0.3411, F1: 0.0474, Cost: 866.9477\n",
      "[Valid] Loss: 11.0146, Acc: 0.3165, F1: 0.0465, Cost: 880.0000\n",
      "(Epoch 29 complete in 0m 11s)\n",
      "--------------------------------------------------------------------------------\n",
      "Epoch 30/200\n",
      "--------------------------------------------------------------------------------\n"
     ]
    },
    {
     "name": "stderr",
     "output_type": "stream",
     "text": [
      "Training: 100%|██████████| 172/172 [00:00<00:00, 455.57it/s]\n",
      "Validation: 100%|██████████| 43/43 [00:00<00:00, 831.08it/s]\n"
     ]
    },
    {
     "name": "stdout",
     "output_type": "stream",
     "text": [
      "[Train] Loss: 133.7370, Acc: 0.3174, F1: 0.0451, Cost: 910.0581\n",
      "[Valid] Loss: 10.8584, Acc: 0.2461, F1: 0.0424, Cost: 970.0000\n",
      "(Epoch 30 complete in 0m 12s)\n",
      "--------------------------------------------------------------------------------\n",
      "Epoch 31/200\n",
      "--------------------------------------------------------------------------------\n"
     ]
    },
    {
     "name": "stderr",
     "output_type": "stream",
     "text": [
      "Training: 100%|██████████| 172/172 [00:00<00:00, 552.77it/s]\n",
      "Validation: 100%|██████████| 43/43 [00:00<00:00, 536.12it/s]\n"
     ]
    },
    {
     "name": "stdout",
     "output_type": "stream",
     "text": [
      "[Train] Loss: 983.9547, Acc: 0.2766, F1: 0.0429, Cost: 956.6860\n",
      "[Valid] Loss: 10.8557, Acc: 0.2388, F1: 0.0420, Cost: 979.3023\n",
      "(Epoch 31 complete in 0m 12s)\n",
      "--------------------------------------------------------------------------------\n",
      "Epoch 32/200\n",
      "--------------------------------------------------------------------------------\n"
     ]
    },
    {
     "name": "stderr",
     "output_type": "stream",
     "text": [
      "Training: 100%|██████████| 172/172 [00:00<00:00, 551.28it/s]\n",
      "Validation: 100%|██████████| 43/43 [00:00<00:00, 721.90it/s]\n"
     ]
    },
    {
     "name": "stdout",
     "output_type": "stream",
     "text": [
      "[Train] Loss: 73.9076, Acc: 0.3033, F1: 0.0449, Cost: 916.8314\n",
      "[Valid] Loss: 10.8222, Acc: 0.2340, F1: 0.0417, Cost: 985.4651\n",
      "(Epoch 32 complete in 0m 13s)\n",
      "--------------------------------------------------------------------------------\n",
      "Epoch 33/200\n",
      "--------------------------------------------------------------------------------\n"
     ]
    },
    {
     "name": "stderr",
     "output_type": "stream",
     "text": [
      "Training: 100%|██████████| 172/172 [00:00<00:00, 552.06it/s]\n",
      "Validation: 100%|██████████| 43/43 [00:00<00:00, 842.20it/s]\n"
     ]
    },
    {
     "name": "stdout",
     "output_type": "stream",
     "text": [
      "[Train] Loss: 21.9852, Acc: 0.3051, F1: 0.0447, Cost: 915.8140\n",
      "[Valid] Loss: 10.8199, Acc: 0.2606, F1: 0.0432, Cost: 951.3953\n",
      "(Epoch 33 complete in 0m 13s)\n",
      "--------------------------------------------------------------------------------\n",
      "Epoch 34/200\n",
      "--------------------------------------------------------------------------------\n"
     ]
    },
    {
     "name": "stderr",
     "output_type": "stream",
     "text": [
      "Training: 100%|██████████| 172/172 [00:00<00:00, 533.34it/s]\n",
      "Validation: 100%|██████████| 43/43 [00:00<00:00, 845.32it/s]\n"
     ]
    },
    {
     "name": "stdout",
     "output_type": "stream",
     "text": [
      "[Train] Loss: 926.9707, Acc: 0.2882, F1: 0.0439, Cost: 938.8953\n",
      "[Valid] Loss: 10.8172, Acc: 0.2356, F1: 0.0418, Cost: 983.4884\n",
      "(Epoch 34 complete in 0m 13s)\n",
      "--------------------------------------------------------------------------------\n",
      "Epoch 35/200\n",
      "--------------------------------------------------------------------------------\n"
     ]
    },
    {
     "name": "stderr",
     "output_type": "stream",
     "text": [
      "Training: 100%|██████████| 172/172 [00:00<00:00, 462.02it/s]\n",
      "Validation: 100%|██████████| 43/43 [00:00<00:00, 847.86it/s]\n"
     ]
    },
    {
     "name": "stdout",
     "output_type": "stream",
     "text": [
      "[Train] Loss: 2128.6116, Acc: 0.2839, F1: 0.0433, Cost: 945.8721\n",
      "[Valid] Loss: 10.8004, Acc: 0.2346, F1: 0.0418, Cost: 984.7674\n",
      "(Epoch 35 complete in 0m 14s)\n",
      "--------------------------------------------------------------------------------\n",
      "Epoch 36/200\n",
      "--------------------------------------------------------------------------------\n"
     ]
    },
    {
     "name": "stderr",
     "output_type": "stream",
     "text": [
      "Training: 100%|██████████| 172/172 [00:00<00:00, 546.75it/s]\n",
      "Validation: 100%|██████████| 43/43 [00:00<00:00, 819.83it/s]\n"
     ]
    },
    {
     "name": "stdout",
     "output_type": "stream",
     "text": [
      "[Train] Loss: 217.0831, Acc: 0.2992, F1: 0.0449, Cost: 913.4012\n",
      "[Valid] Loss: 10.7921, Acc: 0.3005, F1: 0.0455, Cost: 900.4651\n",
      "(Epoch 36 complete in 0m 14s)\n",
      "--------------------------------------------------------------------------------\n",
      "Epoch 37/200\n",
      "--------------------------------------------------------------------------------\n"
     ]
    },
    {
     "name": "stderr",
     "output_type": "stream",
     "text": [
      "Training: 100%|██████████| 172/172 [00:00<00:00, 497.36it/s]\n",
      "Validation: 100%|██████████| 43/43 [00:00<00:00, 841.75it/s]\n"
     ]
    },
    {
     "name": "stdout",
     "output_type": "stream",
     "text": [
      "[Train] Loss: 637.6161, Acc: 0.3245, F1: 0.0460, Cost: 893.8953\n",
      "[Valid] Loss: 10.8028, Acc: 0.3026, F1: 0.0456, Cost: 897.7907\n",
      "(Epoch 37 complete in 0m 15s)\n",
      "--------------------------------------------------------------------------------\n",
      "Epoch 38/200\n",
      "--------------------------------------------------------------------------------\n"
     ]
    },
    {
     "name": "stderr",
     "output_type": "stream",
     "text": [
      "Training: 100%|██████████| 172/172 [00:00<00:00, 535.64it/s]\n",
      "Validation: 100%|██████████| 43/43 [00:00<00:00, 838.19it/s]\n"
     ]
    },
    {
     "name": "stdout",
     "output_type": "stream",
     "text": [
      "[Train] Loss: 168.1805, Acc: 0.2970, F1: 0.0441, Cost: 927.7035\n",
      "[Valid] Loss: 10.8087, Acc: 0.2353, F1: 0.0418, Cost: 983.8372\n",
      "(Epoch 38 complete in 0m 15s)\n",
      "--------------------------------------------------------------------------------\n",
      "Epoch 39/200\n",
      "--------------------------------------------------------------------------------\n"
     ]
    },
    {
     "name": "stderr",
     "output_type": "stream",
     "text": [
      "Training: 100%|██████████| 172/172 [00:00<00:00, 563.13it/s]\n",
      "Validation: 100%|██████████| 43/43 [00:00<00:00, 830.79it/s]\n"
     ]
    },
    {
     "name": "stdout",
     "output_type": "stream",
     "text": [
      "[Train] Loss: 215.9150, Acc: 0.2908, F1: 0.0438, Cost: 938.4593\n",
      "[Valid] Loss: 10.7749, Acc: 0.2855, F1: 0.0446, Cost: 919.6512\n",
      "(Epoch 39 complete in 0m 15s)\n",
      "--------------------------------------------------------------------------------\n",
      "Epoch 40/200\n",
      "--------------------------------------------------------------------------------\n"
     ]
    },
    {
     "name": "stderr",
     "output_type": "stream",
     "text": [
      "Training: 100%|██████████| 172/172 [00:00<00:00, 458.88it/s]\n",
      "Validation: 100%|██████████| 43/43 [00:00<00:00, 847.49it/s]\n"
     ]
    },
    {
     "name": "stdout",
     "output_type": "stream",
     "text": [
      "[Train] Loss: 437.7777, Acc: 0.2902, F1: 0.0437, Cost: 940.6686\n",
      "[Valid] Loss: 10.7507, Acc: 0.2372, F1: 0.0419, Cost: 981.3953\n",
      "(Epoch 40 complete in 0m 16s)\n",
      "--------------------------------------------------------------------------------\n",
      "Epoch 41/200\n",
      "--------------------------------------------------------------------------------\n"
     ]
    },
    {
     "name": "stderr",
     "output_type": "stream",
     "text": [
      "Training: 100%|██████████| 172/172 [00:00<00:00, 559.52it/s]\n",
      "Validation: 100%|██████████| 43/43 [00:00<00:00, 836.22it/s]\n"
     ]
    },
    {
     "name": "stdout",
     "output_type": "stream",
     "text": [
      "[Train] Loss: 845.5105, Acc: 0.2952, F1: 0.0440, Cost: 932.7326\n",
      "[Valid] Loss: 10.7428, Acc: 0.2364, F1: 0.0419, Cost: 982.4419\n",
      "(Epoch 41 complete in 0m 16s)\n",
      "--------------------------------------------------------------------------------\n",
      "Epoch 42/200\n",
      "--------------------------------------------------------------------------------\n"
     ]
    },
    {
     "name": "stderr",
     "output_type": "stream",
     "text": [
      "Training: 100%|██████████| 172/172 [00:00<00:00, 554.20it/s]\n",
      "Validation: 100%|██████████| 43/43 [00:00<00:00, 522.75it/s]\n"
     ]
    },
    {
     "name": "stdout",
     "output_type": "stream",
     "text": [
      "[Train] Loss: 106.2071, Acc: 0.2690, F1: 0.0431, Cost: 950.6686\n",
      "[Valid] Loss: 10.7435, Acc: 0.2304, F1: 0.0415, Cost: 990.1163\n",
      "(Epoch 42 complete in 0m 16s)\n",
      "--------------------------------------------------------------------------------\n",
      "Epoch 43/200\n",
      "--------------------------------------------------------------------------------\n"
     ]
    },
    {
     "name": "stderr",
     "output_type": "stream",
     "text": [
      "Training: 100%|██████████| 172/172 [00:00<00:00, 519.08it/s]\n",
      "Validation: 100%|██████████| 43/43 [00:00<00:00, 818.92it/s]\n"
     ]
    },
    {
     "name": "stdout",
     "output_type": "stream",
     "text": [
      "[Train] Loss: 1791.8727, Acc: 0.2530, F1: 0.0420, Cost: 978.2558\n",
      "[Valid] Loss: 10.7435, Acc: 0.2304, F1: 0.0415, Cost: 990.1163\n",
      "(Epoch 43 complete in 0m 17s)\n",
      "--------------------------------------------------------------------------------\n",
      "Epoch 44/200\n",
      "--------------------------------------------------------------------------------\n"
     ]
    },
    {
     "name": "stderr",
     "output_type": "stream",
     "text": [
      "Training: 100%|██████████| 172/172 [00:00<00:00, 503.53it/s]\n",
      "Validation: 100%|██████████| 43/43 [00:00<00:00, 833.93it/s]\n"
     ]
    },
    {
     "name": "stdout",
     "output_type": "stream",
     "text": [
      "[Train] Loss: 225.8730, Acc: 0.2620, F1: 0.0425, Cost: 965.3488\n",
      "[Valid] Loss: 10.7426, Acc: 0.2304, F1: 0.0415, Cost: 990.1163\n",
      "(Epoch 44 complete in 0m 17s)\n",
      "--------------------------------------------------------------------------------\n",
      "Epoch 45/200\n",
      "--------------------------------------------------------------------------------\n"
     ]
    },
    {
     "name": "stderr",
     "output_type": "stream",
     "text": [
      "Training: 100%|██████████| 172/172 [00:00<00:00, 538.95it/s]\n",
      "Validation: 100%|██████████| 43/43 [00:00<00:00, 366.70it/s]\n"
     ]
    },
    {
     "name": "stdout",
     "output_type": "stream",
     "text": [
      "[Train] Loss: 98.1517, Acc: 0.2640, F1: 0.0424, Cost: 965.5523\n",
      "[Valid] Loss: 10.7426, Acc: 0.2304, F1: 0.0415, Cost: 990.1163\n",
      "(Epoch 45 complete in 0m 18s)\n",
      "--------------------------------------------------------------------------------\n",
      "Epoch 46/200\n",
      "--------------------------------------------------------------------------------\n"
     ]
    },
    {
     "name": "stderr",
     "output_type": "stream",
     "text": [
      "Training: 100%|██████████| 172/172 [00:00<00:00, 570.71it/s]\n",
      "Validation: 100%|██████████| 43/43 [00:00<00:00, 850.09it/s]\n"
     ]
    },
    {
     "name": "stdout",
     "output_type": "stream",
     "text": [
      "[Train] Loss: 115.4156, Acc: 0.2507, F1: 0.0420, Cost: 975.5233\n",
      "[Valid] Loss: 10.7427, Acc: 0.2304, F1: 0.0415, Cost: 990.1163\n",
      "(Epoch 46 complete in 0m 18s)\n",
      "--------------------------------------------------------------------------------\n",
      "Epoch 47/200\n",
      "--------------------------------------------------------------------------------\n"
     ]
    },
    {
     "name": "stderr",
     "output_type": "stream",
     "text": [
      "Training: 100%|██████████| 172/172 [00:00<00:00, 563.37it/s]\n",
      "Validation: 100%|██████████| 43/43 [00:00<00:00, 832.16it/s]\n"
     ]
    },
    {
     "name": "stdout",
     "output_type": "stream",
     "text": [
      "[Train] Loss: 48.2749, Acc: 0.2587, F1: 0.0424, Cost: 966.7151\n",
      "[Valid] Loss: 10.7419, Acc: 0.2304, F1: 0.0415, Cost: 990.1163\n",
      "(Epoch 47 complete in 0m 18s)\n",
      "--------------------------------------------------------------------------------\n",
      "Epoch 48/200\n",
      "--------------------------------------------------------------------------------\n"
     ]
    },
    {
     "name": "stderr",
     "output_type": "stream",
     "text": [
      "Training: 100%|██████████| 172/172 [00:00<00:00, 503.86it/s]\n",
      "Validation: 100%|██████████| 43/43 [00:00<00:00, 847.51it/s]\n"
     ]
    },
    {
     "name": "stdout",
     "output_type": "stream",
     "text": [
      "[Train] Loss: 224.1732, Acc: 0.2541, F1: 0.0417, Cost: 979.6802\n",
      "[Valid] Loss: 10.7422, Acc: 0.2304, F1: 0.0415, Cost: 990.1163\n",
      "(Epoch 48 complete in 0m 19s)\n",
      "--------------------------------------------------------------------------------\n",
      "Epoch 49/200\n",
      "--------------------------------------------------------------------------------\n"
     ]
    },
    {
     "name": "stderr",
     "output_type": "stream",
     "text": [
      "Training: 100%|██████████| 172/172 [00:00<00:00, 551.15it/s]\n",
      "Validation: 100%|██████████| 43/43 [00:00<00:00, 849.22it/s]\n"
     ]
    },
    {
     "name": "stdout",
     "output_type": "stream",
     "text": [
      "[Train] Loss: 94.3946, Acc: 0.2452, F1: 0.0415, Cost: 988.1977\n",
      "[Valid] Loss: 10.7405, Acc: 0.2304, F1: 0.0415, Cost: 990.1163\n",
      "(Epoch 49 complete in 0m 19s)\n",
      "--------------------------------------------------------------------------------\n",
      "Epoch 50/200\n",
      "--------------------------------------------------------------------------------\n"
     ]
    },
    {
     "name": "stderr",
     "output_type": "stream",
     "text": [
      "Training: 100%|██████████| 172/172 [00:00<00:00, 559.34it/s]\n",
      "Validation: 100%|██████████| 43/43 [00:00<00:00, 834.04it/s]\n"
     ]
    },
    {
     "name": "stdout",
     "output_type": "stream",
     "text": [
      "[Train] Loss: 65.0346, Acc: 0.2443, F1: 0.0415, Cost: 989.3895\n",
      "[Valid] Loss: 10.7391, Acc: 0.2304, F1: 0.0415, Cost: 990.1163\n",
      "(Epoch 50 complete in 0m 20s)\n",
      "--------------------------------------------------------------------------------\n",
      "Epoch 51/200\n",
      "--------------------------------------------------------------------------------\n"
     ]
    },
    {
     "name": "stderr",
     "output_type": "stream",
     "text": [
      "Training: 100%|██████████| 172/172 [00:00<00:00, 457.13it/s]\n",
      "Validation: 100%|██████████| 43/43 [00:00<00:00, 795.12it/s]\n"
     ]
    },
    {
     "name": "stdout",
     "output_type": "stream",
     "text": [
      "[Train] Loss: 113.1112, Acc: 0.2440, F1: 0.0417, Cost: 982.6744\n",
      "[Valid] Loss: 10.7392, Acc: 0.2304, F1: 0.0415, Cost: 990.1163\n",
      "(Epoch 51 complete in 0m 20s)\n",
      "--------------------------------------------------------------------------------\n",
      "Epoch 52/200\n",
      "--------------------------------------------------------------------------------\n"
     ]
    },
    {
     "name": "stderr",
     "output_type": "stream",
     "text": [
      "Training: 100%|██████████| 172/172 [00:00<00:00, 555.64it/s]\n",
      "Validation: 100%|██████████| 43/43 [00:00<00:00, 845.64it/s]\n"
     ]
    },
    {
     "name": "stdout",
     "output_type": "stream",
     "text": [
      "[Train] Loss: 157.5336, Acc: 0.2473, F1: 0.0418, Cost: 982.6744\n",
      "[Valid] Loss: 10.7390, Acc: 0.2304, F1: 0.0415, Cost: 990.1163\n",
      "(Epoch 52 complete in 0m 20s)\n",
      "--------------------------------------------------------------------------------\n",
      "Epoch 53/200\n",
      "--------------------------------------------------------------------------------\n"
     ]
    },
    {
     "name": "stderr",
     "output_type": "stream",
     "text": [
      "Training: 100%|██████████| 172/172 [00:00<00:00, 549.41it/s]\n",
      "Validation: 100%|██████████| 43/43 [00:00<00:00, 514.62it/s]\n"
     ]
    },
    {
     "name": "stdout",
     "output_type": "stream",
     "text": [
      "[Train] Loss: 125.8948, Acc: 0.2484, F1: 0.0420, Cost: 975.5814\n",
      "[Valid] Loss: 10.7384, Acc: 0.2304, F1: 0.0415, Cost: 990.1163\n",
      "(Epoch 53 complete in 0m 21s)\n",
      "--------------------------------------------------------------------------------\n",
      "Epoch 54/200\n",
      "--------------------------------------------------------------------------------\n"
     ]
    },
    {
     "name": "stderr",
     "output_type": "stream",
     "text": [
      "Training: 100%|██████████| 172/172 [00:00<00:00, 552.03it/s]\n",
      "Validation: 100%|██████████| 43/43 [00:00<00:00, 842.39it/s]\n"
     ]
    },
    {
     "name": "stdout",
     "output_type": "stream",
     "text": [
      "[Train] Loss: 182.0836, Acc: 0.2456, F1: 0.0415, Cost: 987.6744\n",
      "[Valid] Loss: 10.7388, Acc: 0.2304, F1: 0.0415, Cost: 990.1163\n",
      "(Epoch 54 complete in 0m 21s)\n",
      "--------------------------------------------------------------------------------\n",
      "Epoch 55/200\n",
      "--------------------------------------------------------------------------------\n"
     ]
    },
    {
     "name": "stderr",
     "output_type": "stream",
     "text": [
      "Training: 100%|██████████| 172/172 [00:00<00:00, 558.85it/s]\n",
      "Validation: 100%|██████████| 43/43 [00:00<00:00, 840.70it/s]\n"
     ]
    },
    {
     "name": "stdout",
     "output_type": "stream",
     "text": [
      "[Train] Loss: 211.1479, Acc: 0.2421, F1: 0.0416, Cost: 987.9070\n",
      "[Valid] Loss: 10.7379, Acc: 0.2304, F1: 0.0415, Cost: 990.1163\n",
      "(Epoch 55 complete in 0m 21s)\n",
      "--------------------------------------------------------------------------------\n",
      "Epoch 56/200\n",
      "--------------------------------------------------------------------------------\n"
     ]
    },
    {
     "name": "stderr",
     "output_type": "stream",
     "text": [
      "Training: 100%|██████████| 172/172 [00:00<00:00, 467.64it/s]\n",
      "Validation: 100%|██████████| 43/43 [00:00<00:00, 844.78it/s]\n"
     ]
    },
    {
     "name": "stdout",
     "output_type": "stream",
     "text": [
      "[Train] Loss: 148.2117, Acc: 0.2406, F1: 0.0416, Cost: 987.0058\n",
      "[Valid] Loss: 10.7379, Acc: 0.2304, F1: 0.0415, Cost: 990.1163\n",
      "(Epoch 56 complete in 0m 22s)\n",
      "--------------------------------------------------------------------------------\n",
      "Epoch 57/200\n",
      "--------------------------------------------------------------------------------\n"
     ]
    },
    {
     "name": "stderr",
     "output_type": "stream",
     "text": [
      "Training: 100%|██████████| 172/172 [00:00<00:00, 535.95it/s]\n",
      "Validation: 100%|██████████| 43/43 [00:00<00:00, 816.42it/s]\n"
     ]
    },
    {
     "name": "stdout",
     "output_type": "stream",
     "text": [
      "[Train] Loss: 214.1532, Acc: 0.2448, F1: 0.0418, Cost: 981.7151\n",
      "[Valid] Loss: 10.7371, Acc: 0.2304, F1: 0.0415, Cost: 990.1163\n",
      "(Epoch 57 complete in 0m 22s)\n",
      "--------------------------------------------------------------------------------\n",
      "Epoch 58/200\n",
      "--------------------------------------------------------------------------------\n"
     ]
    },
    {
     "name": "stderr",
     "output_type": "stream",
     "text": [
      "Training: 100%|██████████| 172/172 [00:00<00:00, 554.18it/s]\n",
      "Validation: 100%|██████████| 43/43 [00:00<00:00, 857.43it/s]\n"
     ]
    },
    {
     "name": "stdout",
     "output_type": "stream",
     "text": [
      "[Train] Loss: 130.1371, Acc: 0.2403, F1: 0.0411, Cost: 998.7209\n",
      "[Valid] Loss: 10.7368, Acc: 0.2304, F1: 0.0415, Cost: 990.1163\n",
      "(Epoch 58 complete in 0m 23s)\n",
      "--------------------------------------------------------------------------------\n",
      "Epoch 59/200\n",
      "--------------------------------------------------------------------------------\n"
     ]
    },
    {
     "name": "stderr",
     "output_type": "stream",
     "text": [
      "Training: 100%|██████████| 172/172 [00:00<00:00, 504.92it/s]\n",
      "Validation: 100%|██████████| 43/43 [00:00<00:00, 847.84it/s]\n"
     ]
    },
    {
     "name": "stdout",
     "output_type": "stream",
     "text": [
      "[Train] Loss: 1439.7654, Acc: 0.2381, F1: 0.0418, Cost: 981.6860\n",
      "[Valid] Loss: 10.7366, Acc: 0.2304, F1: 0.0415, Cost: 990.1163\n",
      "(Epoch 59 complete in 0m 23s)\n",
      "--------------------------------------------------------------------------------\n",
      "Epoch 60/200\n",
      "--------------------------------------------------------------------------------\n"
     ]
    },
    {
     "name": "stderr",
     "output_type": "stream",
     "text": [
      "Training: 100%|██████████| 172/172 [00:00<00:00, 533.59it/s]\n",
      "Validation: 100%|██████████| 43/43 [00:00<00:00, 840.44it/s]\n"
     ]
    },
    {
     "name": "stdout",
     "output_type": "stream",
     "text": [
      "[Train] Loss: 208.8235, Acc: 0.2404, F1: 0.0417, Cost: 985.8140\n",
      "[Valid] Loss: 10.7366, Acc: 0.2304, F1: 0.0415, Cost: 990.1163\n",
      "(Epoch 60 complete in 0m 23s)\n",
      "--------------------------------------------------------------------------------\n",
      "Epoch 61/200\n",
      "--------------------------------------------------------------------------------\n"
     ]
    },
    {
     "name": "stderr",
     "output_type": "stream",
     "text": [
      "Training: 100%|██████████| 172/172 [00:00<00:00, 451.26it/s]\n",
      "Validation: 100%|██████████| 43/43 [00:00<00:00, 827.98it/s]\n"
     ]
    },
    {
     "name": "stdout",
     "output_type": "stream",
     "text": [
      "[Train] Loss: 202.7617, Acc: 0.2410, F1: 0.0415, Cost: 987.9651\n",
      "[Valid] Loss: 10.7366, Acc: 0.2304, F1: 0.0415, Cost: 990.1163\n",
      "(Epoch 61 complete in 0m 24s)\n",
      "--------------------------------------------------------------------------------\n",
      "Epoch 62/200\n",
      "--------------------------------------------------------------------------------\n"
     ]
    },
    {
     "name": "stderr",
     "output_type": "stream",
     "text": [
      "Training: 100%|██████████| 172/172 [00:00<00:00, 546.95it/s]\n",
      "Validation: 100%|██████████| 43/43 [00:00<00:00, 820.63it/s]\n"
     ]
    },
    {
     "name": "stdout",
     "output_type": "stream",
     "text": [
      "[Train] Loss: 113.7610, Acc: 0.2439, F1: 0.0417, Cost: 982.7616\n",
      "[Valid] Loss: 10.7366, Acc: 0.2304, F1: 0.0415, Cost: 990.1163\n",
      "(Epoch 62 complete in 0m 24s)\n",
      "--------------------------------------------------------------------------------\n",
      "Epoch 63/200\n",
      "--------------------------------------------------------------------------------\n"
     ]
    },
    {
     "name": "stderr",
     "output_type": "stream",
     "text": [
      "Training: 100%|██████████| 172/172 [00:00<00:00, 559.67it/s]\n",
      "Validation: 100%|██████████| 43/43 [00:00<00:00, 845.29it/s]\n"
     ]
    },
    {
     "name": "stdout",
     "output_type": "stream",
     "text": [
      "[Train] Loss: 577.5070, Acc: 0.2402, F1: 0.0412, Cost: 997.4128\n",
      "[Valid] Loss: 10.7365, Acc: 0.2304, F1: 0.0415, Cost: 990.1163\n",
      "(Epoch 63 complete in 0m 25s)\n",
      "--------------------------------------------------------------------------------\n",
      "Epoch 64/200\n",
      "--------------------------------------------------------------------------------\n"
     ]
    },
    {
     "name": "stderr",
     "output_type": "stream",
     "text": [
      "Training: 100%|██████████| 172/172 [00:00<00:00, 483.91it/s]\n",
      "Validation: 100%|██████████| 43/43 [00:00<00:00, 836.74it/s]\n"
     ]
    },
    {
     "name": "stdout",
     "output_type": "stream",
     "text": [
      "[Train] Loss: 192.6776, Acc: 0.2437, F1: 0.0420, Cost: 975.9593\n",
      "[Valid] Loss: 10.7365, Acc: 0.2304, F1: 0.0415, Cost: 990.1163\n",
      "(Epoch 64 complete in 0m 25s)\n",
      "--------------------------------------------------------------------------------\n",
      "Epoch 65/200\n",
      "--------------------------------------------------------------------------------\n"
     ]
    },
    {
     "name": "stderr",
     "output_type": "stream",
     "text": [
      "Training: 100%|██████████| 172/172 [00:00<00:00, 545.04it/s]\n",
      "Validation: 100%|██████████| 43/43 [00:00<00:00, 789.57it/s]\n"
     ]
    },
    {
     "name": "stdout",
     "output_type": "stream",
     "text": [
      "[Train] Loss: 92.6040, Acc: 0.2445, F1: 0.0419, Cost: 979.1860\n",
      "[Valid] Loss: 10.7365, Acc: 0.2304, F1: 0.0415, Cost: 990.1163\n",
      "(Epoch 65 complete in 0m 25s)\n",
      "--------------------------------------------------------------------------------\n",
      "Epoch 66/200\n",
      "--------------------------------------------------------------------------------\n"
     ]
    },
    {
     "name": "stderr",
     "output_type": "stream",
     "text": [
      "Training: 100%|██████████| 172/172 [00:00<00:00, 455.53it/s]\n",
      "Validation: 100%|██████████| 43/43 [00:00<00:00, 827.13it/s]\n"
     ]
    },
    {
     "name": "stdout",
     "output_type": "stream",
     "text": [
      "[Train] Loss: 102.3945, Acc: 0.2427, F1: 0.0419, Cost: 978.5756\n",
      "[Valid] Loss: 10.7365, Acc: 0.2304, F1: 0.0415, Cost: 990.1163\n",
      "(Epoch 66 complete in 0m 26s)\n",
      "--------------------------------------------------------------------------------\n",
      "Epoch 67/200\n",
      "--------------------------------------------------------------------------------\n"
     ]
    },
    {
     "name": "stderr",
     "output_type": "stream",
     "text": [
      "Training: 100%|██████████| 172/172 [00:00<00:00, 531.01it/s]\n",
      "Validation: 100%|██████████| 43/43 [00:00<00:00, 836.27it/s]\n"
     ]
    },
    {
     "name": "stdout",
     "output_type": "stream",
     "text": [
      "[Train] Loss: 1217.9961, Acc: 0.2409, F1: 0.0413, Cost: 993.7209\n",
      "[Valid] Loss: 10.7366, Acc: 0.2304, F1: 0.0415, Cost: 990.1163\n",
      "(Epoch 67 complete in 0m 26s)\n",
      "--------------------------------------------------------------------------------\n",
      "Epoch 68/200\n",
      "--------------------------------------------------------------------------------\n"
     ]
    },
    {
     "name": "stderr",
     "output_type": "stream",
     "text": [
      "Training: 100%|██████████| 172/172 [00:00<00:00, 526.39it/s]\n",
      "Validation: 100%|██████████| 43/43 [00:00<00:00, 814.95it/s]\n"
     ]
    },
    {
     "name": "stdout",
     "output_type": "stream",
     "text": [
      "[Train] Loss: 272.3605, Acc: 0.2431, F1: 0.0416, Cost: 985.2035\n",
      "[Valid] Loss: 10.7365, Acc: 0.2304, F1: 0.0415, Cost: 990.1163\n",
      "(Epoch 68 complete in 0m 27s)\n",
      "--------------------------------------------------------------------------------\n",
      "Epoch 69/200\n",
      "--------------------------------------------------------------------------------\n"
     ]
    },
    {
     "name": "stderr",
     "output_type": "stream",
     "text": [
      "Training: 100%|██████████| 172/172 [00:00<00:00, 544.76it/s]\n",
      "Validation: 100%|██████████| 43/43 [00:00<00:00, 492.42it/s]\n"
     ]
    },
    {
     "name": "stdout",
     "output_type": "stream",
     "text": [
      "[Train] Loss: 186.8757, Acc: 0.2426, F1: 0.0417, Cost: 981.5698\n",
      "[Valid] Loss: 10.7365, Acc: 0.2304, F1: 0.0415, Cost: 990.1163\n",
      "(Epoch 69 complete in 0m 27s)\n",
      "--------------------------------------------------------------------------------\n",
      "Epoch 70/200\n",
      "--------------------------------------------------------------------------------\n"
     ]
    },
    {
     "name": "stderr",
     "output_type": "stream",
     "text": [
      "Training: 100%|██████████| 172/172 [00:00<00:00, 528.13it/s]\n",
      "Validation: 100%|██████████| 43/43 [00:00<00:00, 824.96it/s]\n"
     ]
    },
    {
     "name": "stdout",
     "output_type": "stream",
     "text": [
      "[Train] Loss: 52.4360, Acc: 0.2415, F1: 0.0415, Cost: 990.0872\n",
      "[Valid] Loss: 10.7365, Acc: 0.2304, F1: 0.0415, Cost: 990.1163\n",
      "(Epoch 70 complete in 0m 27s)\n",
      "--------------------------------------------------------------------------------\n",
      "Epoch 71/200\n",
      "--------------------------------------------------------------------------------\n"
     ]
    },
    {
     "name": "stderr",
     "output_type": "stream",
     "text": [
      "Training: 100%|██████████| 172/172 [00:00<00:00, 545.78it/s]\n",
      "Validation: 100%|██████████| 43/43 [00:00<00:00, 349.68it/s]\n"
     ]
    },
    {
     "name": "stdout",
     "output_type": "stream",
     "text": [
      "[Train] Loss: 616.4943, Acc: 0.2417, F1: 0.0418, Cost: 978.4884\n",
      "[Valid] Loss: 10.7365, Acc: 0.2304, F1: 0.0415, Cost: 990.1163\n",
      "(Epoch 71 complete in 0m 28s)\n",
      "--------------------------------------------------------------------------------\n",
      "Epoch 72/200\n",
      "--------------------------------------------------------------------------------\n"
     ]
    },
    {
     "name": "stderr",
     "output_type": "stream",
     "text": [
      "Training: 100%|██████████| 172/172 [00:00<00:00, 549.64it/s]\n",
      "Validation: 100%|██████████| 43/43 [00:00<00:00, 813.64it/s]\n"
     ]
    },
    {
     "name": "stdout",
     "output_type": "stream",
     "text": [
      "[Train] Loss: 157.1492, Acc: 0.2414, F1: 0.0417, Cost: 981.7151\n",
      "[Valid] Loss: 10.7365, Acc: 0.2304, F1: 0.0415, Cost: 990.1163\n",
      "(Epoch 72 complete in 0m 28s)\n",
      "--------------------------------------------------------------------------------\n",
      "Epoch 73/200\n",
      "--------------------------------------------------------------------------------\n"
     ]
    },
    {
     "name": "stderr",
     "output_type": "stream",
     "text": [
      "Training: 100%|██████████| 172/172 [00:00<00:00, 557.89it/s]\n",
      "Validation: 100%|██████████| 43/43 [00:00<00:00, 851.21it/s]\n"
     ]
    },
    {
     "name": "stdout",
     "output_type": "stream",
     "text": [
      "[Train] Loss: 732.9598, Acc: 0.2444, F1: 0.0420, Cost: 977.8198\n",
      "[Valid] Loss: 10.7365, Acc: 0.2304, F1: 0.0415, Cost: 990.1163\n",
      "(Epoch 73 complete in 0m 29s)\n",
      "--------------------------------------------------------------------------------\n",
      "Epoch 74/200\n",
      "--------------------------------------------------------------------------------\n"
     ]
    },
    {
     "name": "stderr",
     "output_type": "stream",
     "text": [
      "Training: 100%|██████████| 172/172 [00:00<00:00, 533.10it/s]\n",
      "Validation: 100%|██████████| 43/43 [00:00<00:00, 811.21it/s]\n"
     ]
    },
    {
     "name": "stdout",
     "output_type": "stream",
     "text": [
      "[Train] Loss: 1555.8872, Acc: 0.2429, F1: 0.0415, Cost: 985.4651\n",
      "[Valid] Loss: 10.7365, Acc: 0.2304, F1: 0.0415, Cost: 990.1163\n",
      "(Epoch 74 complete in 0m 29s)\n",
      "--------------------------------------------------------------------------------\n",
      "Epoch 75/200\n",
      "--------------------------------------------------------------------------------\n"
     ]
    },
    {
     "name": "stderr",
     "output_type": "stream",
     "text": [
      "Training: 100%|██████████| 172/172 [00:00<00:00, 482.02it/s]\n",
      "Validation: 100%|██████████| 43/43 [00:00<00:00, 735.30it/s]\n"
     ]
    },
    {
     "name": "stdout",
     "output_type": "stream",
     "text": [
      "[Train] Loss: 92.1886, Acc: 0.2407, F1: 0.0415, Cost: 988.3430\n",
      "[Valid] Loss: 10.7365, Acc: 0.2304, F1: 0.0415, Cost: 990.1163\n",
      "(Epoch 75 complete in 0m 29s)\n",
      "--------------------------------------------------------------------------------\n",
      "Epoch 76/200\n",
      "--------------------------------------------------------------------------------\n"
     ]
    },
    {
     "name": "stderr",
     "output_type": "stream",
     "text": [
      "Training: 100%|██████████| 172/172 [00:00<00:00, 523.22it/s]\n",
      "Validation: 100%|██████████| 43/43 [00:00<00:00, 817.74it/s]\n"
     ]
    },
    {
     "name": "stdout",
     "output_type": "stream",
     "text": [
      "[Train] Loss: 138.9546, Acc: 0.2426, F1: 0.0417, Cost: 981.5407\n",
      "[Valid] Loss: 10.7365, Acc: 0.2304, F1: 0.0415, Cost: 990.1163\n",
      "(Epoch 76 complete in 0m 30s)\n",
      "--------------------------------------------------------------------------------\n",
      "Epoch 77/200\n",
      "--------------------------------------------------------------------------------\n"
     ]
    },
    {
     "name": "stderr",
     "output_type": "stream",
     "text": [
      "Training: 100%|██████████| 172/172 [00:00<00:00, 454.17it/s]\n",
      "Validation: 100%|██████████| 43/43 [00:00<00:00, 817.50it/s]\n"
     ]
    },
    {
     "name": "stdout",
     "output_type": "stream",
     "text": [
      "[Train] Loss: 104.1531, Acc: 0.2401, F1: 0.0414, Cost: 993.3721\n",
      "[Valid] Loss: 10.7365, Acc: 0.2304, F1: 0.0415, Cost: 990.1163\n",
      "(Epoch 77 complete in 0m 30s)\n",
      "--------------------------------------------------------------------------------\n",
      "Epoch 78/200\n",
      "--------------------------------------------------------------------------------\n"
     ]
    },
    {
     "name": "stderr",
     "output_type": "stream",
     "text": [
      "Training: 100%|██████████| 172/172 [00:00<00:00, 539.32it/s]\n",
      "Validation: 100%|██████████| 43/43 [00:00<00:00, 841.82it/s]\n"
     ]
    },
    {
     "name": "stdout",
     "output_type": "stream",
     "text": [
      "[Train] Loss: 367.8898, Acc: 0.2414, F1: 0.0415, Cost: 988.7500\n",
      "[Valid] Loss: 10.7365, Acc: 0.2304, F1: 0.0415, Cost: 990.1163\n",
      "(Epoch 78 complete in 0m 30s)\n",
      "--------------------------------------------------------------------------------\n",
      "Epoch 79/200\n",
      "--------------------------------------------------------------------------------\n"
     ]
    },
    {
     "name": "stderr",
     "output_type": "stream",
     "text": [
      "Training: 100%|██████████| 172/172 [00:00<00:00, 528.83it/s]\n",
      "Validation: 100%|██████████| 43/43 [00:00<00:00, 823.03it/s]\n"
     ]
    },
    {
     "name": "stdout",
     "output_type": "stream",
     "text": [
      "[Train] Loss: 181.0941, Acc: 0.2403, F1: 0.0415, Cost: 988.8663\n",
      "[Valid] Loss: 10.7365, Acc: 0.2304, F1: 0.0415, Cost: 990.1163\n",
      "(Epoch 79 complete in 0m 31s)\n",
      "--------------------------------------------------------------------------------\n",
      "Epoch 80/200\n",
      "--------------------------------------------------------------------------------\n"
     ]
    },
    {
     "name": "stderr",
     "output_type": "stream",
     "text": [
      "Training: 100%|██████████| 172/172 [00:00<00:00, 557.77it/s]\n",
      "Validation: 100%|██████████| 43/43 [00:00<00:00, 504.48it/s]\n"
     ]
    },
    {
     "name": "stdout",
     "output_type": "stream",
     "text": [
      "[Train] Loss: 657.6919, Acc: 0.2399, F1: 0.0414, Cost: 992.1221\n",
      "[Valid] Loss: 10.7365, Acc: 0.2304, F1: 0.0415, Cost: 990.1163\n",
      "(Epoch 80 complete in 0m 31s)\n",
      "--------------------------------------------------------------------------------\n",
      "Epoch 81/200\n",
      "--------------------------------------------------------------------------------\n"
     ]
    },
    {
     "name": "stderr",
     "output_type": "stream",
     "text": [
      "Training: 100%|██████████| 172/172 [00:00<00:00, 544.20it/s]\n",
      "Validation: 100%|██████████| 43/43 [00:00<00:00, 824.48it/s]\n"
     ]
    },
    {
     "name": "stdout",
     "output_type": "stream",
     "text": [
      "[Train] Loss: 2789.5044, Acc: 0.2408, F1: 0.0415, Cost: 989.5640\n",
      "[Valid] Loss: 10.7365, Acc: 0.2304, F1: 0.0415, Cost: 990.1163\n",
      "(Epoch 81 complete in 0m 32s)\n",
      "--------------------------------------------------------------------------------\n",
      "Epoch 82/200\n",
      "--------------------------------------------------------------------------------\n"
     ]
    },
    {
     "name": "stderr",
     "output_type": "stream",
     "text": [
      "Training: 100%|██████████| 172/172 [00:00<00:00, 441.33it/s]\n",
      "Validation: 100%|██████████| 43/43 [00:00<00:00, 835.08it/s]\n"
     ]
    },
    {
     "name": "stdout",
     "output_type": "stream",
     "text": [
      "[Train] Loss: 120.2847, Acc: 0.2418, F1: 0.0417, Cost: 984.0407\n",
      "[Valid] Loss: 10.7365, Acc: 0.2304, F1: 0.0415, Cost: 990.1163\n",
      "(Epoch 82 complete in 0m 32s)\n",
      "--------------------------------------------------------------------------------\n",
      "Epoch 83/200\n",
      "--------------------------------------------------------------------------------\n"
     ]
    },
    {
     "name": "stderr",
     "output_type": "stream",
     "text": [
      "Training: 100%|██████████| 172/172 [00:00<00:00, 542.67it/s]\n",
      "Validation: 100%|██████████| 43/43 [00:00<00:00, 832.72it/s]\n"
     ]
    },
    {
     "name": "stdout",
     "output_type": "stream",
     "text": [
      "[Train] Loss: 331.6200, Acc: 0.2424, F1: 0.0412, Cost: 993.2267\n",
      "[Valid] Loss: 10.7365, Acc: 0.2304, F1: 0.0415, Cost: 990.1163\n",
      "(Epoch 83 complete in 0m 32s)\n",
      "--------------------------------------------------------------------------------\n",
      "Epoch 84/200\n",
      "--------------------------------------------------------------------------------\n"
     ]
    },
    {
     "name": "stderr",
     "output_type": "stream",
     "text": [
      "Training: 100%|██████████| 172/172 [00:00<00:00, 561.54it/s]\n",
      "Validation: 100%|██████████| 43/43 [00:00<00:00, 837.42it/s]\n"
     ]
    },
    {
     "name": "stdout",
     "output_type": "stream",
     "text": [
      "[Train] Loss: 2277.6872, Acc: 0.2423, F1: 0.0416, Cost: 986.3081\n",
      "[Valid] Loss: 10.7365, Acc: 0.2304, F1: 0.0415, Cost: 990.1163\n",
      "(Epoch 84 complete in 0m 33s)\n",
      "--------------------------------------------------------------------------------\n",
      "Epoch 85/200\n",
      "--------------------------------------------------------------------------------\n"
     ]
    },
    {
     "name": "stderr",
     "output_type": "stream",
     "text": [
      "Training: 100%|██████████| 172/172 [00:00<00:00, 539.51it/s]\n",
      "Validation: 100%|██████████| 43/43 [00:00<00:00, 799.97it/s]\n"
     ]
    },
    {
     "name": "stdout",
     "output_type": "stream",
     "text": [
      "[Train] Loss: 2787.8699, Acc: 0.2421, F1: 0.0414, Cost: 990.7267\n",
      "[Valid] Loss: 10.7365, Acc: 0.2304, F1: 0.0415, Cost: 990.1163\n",
      "(Epoch 85 complete in 0m 33s)\n",
      "--------------------------------------------------------------------------------\n",
      "Epoch 86/200\n",
      "--------------------------------------------------------------------------------\n"
     ]
    },
    {
     "name": "stderr",
     "output_type": "stream",
     "text": [
      "Training: 100%|██████████| 172/172 [00:00<00:00, 485.18it/s]\n",
      "Validation: 100%|██████████| 43/43 [00:00<00:00, 853.89it/s]\n"
     ]
    },
    {
     "name": "stdout",
     "output_type": "stream",
     "text": [
      "[Train] Loss: 328.8399, Acc: 0.2391, F1: 0.0415, Cost: 987.5291\n",
      "[Valid] Loss: 10.7365, Acc: 0.2304, F1: 0.0415, Cost: 990.1163\n",
      "(Epoch 86 complete in 0m 34s)\n",
      "--------------------------------------------------------------------------------\n",
      "Epoch 87/200\n",
      "--------------------------------------------------------------------------------\n"
     ]
    },
    {
     "name": "stderr",
     "output_type": "stream",
     "text": [
      "Training: 100%|██████████| 172/172 [00:00<00:00, 438.53it/s]\n",
      "Validation: 100%|██████████| 43/43 [00:00<00:00, 844.66it/s]\n"
     ]
    },
    {
     "name": "stdout",
     "output_type": "stream",
     "text": [
      "[Train] Loss: 183.9537, Acc: 0.2421, F1: 0.0414, Cost: 989.3314\n",
      "[Valid] Loss: 10.7365, Acc: 0.2304, F1: 0.0415, Cost: 990.1163\n",
      "(Epoch 87 complete in 0m 34s)\n",
      "--------------------------------------------------------------------------------\n",
      "Epoch 88/200\n",
      "--------------------------------------------------------------------------------\n"
     ]
    },
    {
     "name": "stderr",
     "output_type": "stream",
     "text": [
      "Training: 100%|██████████| 172/172 [00:00<00:00, 539.34it/s]\n",
      "Validation: 100%|██████████| 43/43 [00:00<00:00, 809.43it/s]\n"
     ]
    },
    {
     "name": "stdout",
     "output_type": "stream",
     "text": [
      "[Train] Loss: 106.4040, Acc: 0.2430, F1: 0.0414, Cost: 988.1977\n",
      "[Valid] Loss: 10.7365, Acc: 0.2304, F1: 0.0415, Cost: 990.1163\n",
      "(Epoch 88 complete in 0m 34s)\n",
      "--------------------------------------------------------------------------------\n",
      "Epoch 89/200\n",
      "--------------------------------------------------------------------------------\n"
     ]
    },
    {
     "name": "stderr",
     "output_type": "stream",
     "text": [
      "Training: 100%|██████████| 172/172 [00:00<00:00, 554.79it/s]\n",
      "Validation: 100%|██████████| 43/43 [00:00<00:00, 715.95it/s]\n"
     ]
    },
    {
     "name": "stdout",
     "output_type": "stream",
     "text": [
      "[Train] Loss: 192.5841, Acc: 0.2433, F1: 0.0416, Cost: 987.8488\n",
      "[Valid] Loss: 10.7365, Acc: 0.2304, F1: 0.0415, Cost: 990.1163\n",
      "(Epoch 89 complete in 0m 35s)\n",
      "--------------------------------------------------------------------------------\n",
      "Epoch 90/200\n",
      "--------------------------------------------------------------------------------\n"
     ]
    },
    {
     "name": "stderr",
     "output_type": "stream",
     "text": [
      "Training: 100%|██████████| 172/172 [00:00<00:00, 538.91it/s]\n",
      "Validation: 100%|██████████| 43/43 [00:00<00:00, 830.33it/s]\n"
     ]
    },
    {
     "name": "stdout",
     "output_type": "stream",
     "text": [
      "[Train] Loss: 208.3035, Acc: 0.2438, F1: 0.0416, Cost: 984.3314\n",
      "[Valid] Loss: 10.7365, Acc: 0.2304, F1: 0.0415, Cost: 990.1163\n",
      "(Epoch 90 complete in 0m 35s)\n",
      "--------------------------------------------------------------------------------\n",
      "Epoch 91/200\n",
      "--------------------------------------------------------------------------------\n"
     ]
    },
    {
     "name": "stderr",
     "output_type": "stream",
     "text": [
      "Training: 100%|██████████| 172/172 [00:00<00:00, 521.84it/s]\n",
      "Validation: 100%|██████████| 43/43 [00:00<00:00, 534.89it/s]\n"
     ]
    },
    {
     "name": "stdout",
     "output_type": "stream",
     "text": [
      "[Train] Loss: 86.1558, Acc: 0.2425, F1: 0.0415, Cost: 987.4419\n",
      "[Valid] Loss: 10.7365, Acc: 0.2304, F1: 0.0415, Cost: 990.1163\n",
      "(Epoch 91 complete in 0m 36s)\n",
      "--------------------------------------------------------------------------------\n",
      "Epoch 92/200\n",
      "--------------------------------------------------------------------------------\n"
     ]
    },
    {
     "name": "stderr",
     "output_type": "stream",
     "text": [
      "Training: 100%|██████████| 172/172 [00:00<00:00, 554.39it/s]\n",
      "Validation: 100%|██████████| 43/43 [00:00<00:00, 364.41it/s]\n"
     ]
    },
    {
     "name": "stdout",
     "output_type": "stream",
     "text": [
      "[Train] Loss: 77.4922, Acc: 0.2417, F1: 0.0419, Cost: 975.6686\n",
      "[Valid] Loss: 10.7365, Acc: 0.2304, F1: 0.0415, Cost: 990.1163\n",
      "(Epoch 92 complete in 0m 36s)\n",
      "--------------------------------------------------------------------------------\n",
      "Epoch 93/200\n",
      "--------------------------------------------------------------------------------\n"
     ]
    },
    {
     "name": "stderr",
     "output_type": "stream",
     "text": [
      "Training: 100%|██████████| 172/172 [00:00<00:00, 556.35it/s]\n",
      "Validation: 100%|██████████| 43/43 [00:00<00:00, 845.52it/s]\n"
     ]
    },
    {
     "name": "stdout",
     "output_type": "stream",
     "text": [
      "[Train] Loss: 1621.8447, Acc: 0.2447, F1: 0.0416, Cost: 984.5349\n",
      "[Valid] Loss: 10.7365, Acc: 0.2304, F1: 0.0415, Cost: 990.1163\n",
      "(Epoch 93 complete in 0m 36s)\n",
      "--------------------------------------------------------------------------------\n",
      "Epoch 94/200\n",
      "--------------------------------------------------------------------------------\n"
     ]
    },
    {
     "name": "stderr",
     "output_type": "stream",
     "text": [
      "Training: 100%|██████████| 172/172 [00:00<00:00, 538.79it/s]\n",
      "Validation: 100%|██████████| 43/43 [00:00<00:00, 817.43it/s]\n"
     ]
    },
    {
     "name": "stdout",
     "output_type": "stream",
     "text": [
      "[Train] Loss: 118.9231, Acc: 0.2427, F1: 0.0416, Cost: 987.1512\n",
      "[Valid] Loss: 10.7365, Acc: 0.2304, F1: 0.0415, Cost: 990.1163\n",
      "(Epoch 94 complete in 0m 37s)\n",
      "--------------------------------------------------------------------------------\n",
      "Epoch 95/200\n",
      "--------------------------------------------------------------------------------\n"
     ]
    },
    {
     "name": "stderr",
     "output_type": "stream",
     "text": [
      "Training: 100%|██████████| 172/172 [00:00<00:00, 506.86it/s]\n",
      "Validation: 100%|██████████| 43/43 [00:00<00:00, 789.73it/s]\n"
     ]
    },
    {
     "name": "stdout",
     "output_type": "stream",
     "text": [
      "[Train] Loss: 354.2134, Acc: 0.2419, F1: 0.0416, Cost: 988.1686\n",
      "[Valid] Loss: 10.7365, Acc: 0.2304, F1: 0.0415, Cost: 990.1163\n",
      "(Epoch 95 complete in 0m 37s)\n",
      "--------------------------------------------------------------------------------\n",
      "Epoch 96/200\n",
      "--------------------------------------------------------------------------------\n"
     ]
    },
    {
     "name": "stderr",
     "output_type": "stream",
     "text": [
      "Training: 100%|██████████| 172/172 [00:00<00:00, 530.10it/s]\n",
      "Validation: 100%|██████████| 43/43 [00:00<00:00, 821.87it/s]\n"
     ]
    },
    {
     "name": "stdout",
     "output_type": "stream",
     "text": [
      "[Train] Loss: 233.5902, Acc: 0.2424, F1: 0.0411, Cost: 998.9244\n",
      "[Valid] Loss: 10.7365, Acc: 0.2304, F1: 0.0415, Cost: 990.1163\n",
      "(Epoch 96 complete in 0m 38s)\n",
      "--------------------------------------------------------------------------------\n",
      "Epoch 97/200\n",
      "--------------------------------------------------------------------------------\n"
     ]
    },
    {
     "name": "stderr",
     "output_type": "stream",
     "text": [
      "Training: 100%|██████████| 172/172 [00:00<00:00, 487.09it/s]\n",
      "Validation: 100%|██████████| 43/43 [00:00<00:00, 821.50it/s]\n"
     ]
    },
    {
     "name": "stdout",
     "output_type": "stream",
     "text": [
      "[Train] Loss: 5024.1869, Acc: 0.2438, F1: 0.0413, Cost: 994.3023\n",
      "[Valid] Loss: 10.7365, Acc: 0.2304, F1: 0.0415, Cost: 990.1163\n",
      "(Epoch 97 complete in 0m 38s)\n",
      "--------------------------------------------------------------------------------\n",
      "Epoch 98/200\n",
      "--------------------------------------------------------------------------------\n"
     ]
    },
    {
     "name": "stderr",
     "output_type": "stream",
     "text": [
      "Training: 100%|██████████| 172/172 [00:00<00:00, 434.27it/s]\n",
      "Validation: 100%|██████████| 43/43 [00:00<00:00, 792.28it/s]\n"
     ]
    },
    {
     "name": "stdout",
     "output_type": "stream",
     "text": [
      "[Train] Loss: 76.8737, Acc: 0.2425, F1: 0.0415, Cost: 991.7151\n",
      "[Valid] Loss: 10.7365, Acc: 0.2304, F1: 0.0415, Cost: 990.1163\n",
      "(Epoch 98 complete in 0m 38s)\n",
      "--------------------------------------------------------------------------------\n",
      "Epoch 99/200\n",
      "--------------------------------------------------------------------------------\n"
     ]
    },
    {
     "name": "stderr",
     "output_type": "stream",
     "text": [
      "Training: 100%|██████████| 172/172 [00:00<00:00, 539.12it/s]\n",
      "Validation: 100%|██████████| 43/43 [00:00<00:00, 827.27it/s]\n"
     ]
    },
    {
     "name": "stdout",
     "output_type": "stream",
     "text": [
      "[Train] Loss: 177.3212, Acc: 0.2420, F1: 0.0414, Cost: 992.3547\n",
      "[Valid] Loss: 10.7365, Acc: 0.2304, F1: 0.0415, Cost: 990.1163\n",
      "(Epoch 99 complete in 0m 39s)\n",
      "--------------------------------------------------------------------------------\n",
      "Epoch 100/200\n",
      "--------------------------------------------------------------------------------\n"
     ]
    },
    {
     "name": "stderr",
     "output_type": "stream",
     "text": [
      "Training: 100%|██████████| 172/172 [00:00<00:00, 530.56it/s]\n",
      "Validation: 100%|██████████| 43/43 [00:00<00:00, 842.28it/s]\n"
     ]
    },
    {
     "name": "stdout",
     "output_type": "stream",
     "text": [
      "[Train] Loss: 226.1507, Acc: 0.2420, F1: 0.0411, Cost: 999.4767\n",
      "[Valid] Loss: 10.7365, Acc: 0.2304, F1: 0.0415, Cost: 990.1163\n",
      "(Epoch 100 complete in 0m 39s)\n",
      "--------------------------------------------------------------------------------\n",
      "Epoch 101/200\n",
      "--------------------------------------------------------------------------------\n"
     ]
    },
    {
     "name": "stderr",
     "output_type": "stream",
     "text": [
      "Training: 100%|██████████| 172/172 [00:00<00:00, 548.58it/s]\n",
      "Validation: 100%|██████████| 43/43 [00:00<00:00, 808.33it/s]\n"
     ]
    },
    {
     "name": "stdout",
     "output_type": "stream",
     "text": [
      "[Train] Loss: 119.3058, Acc: 0.2427, F1: 0.0419, Cost: 978.6337\n",
      "[Valid] Loss: 10.7365, Acc: 0.2304, F1: 0.0415, Cost: 990.1163\n",
      "(Epoch 101 complete in 0m 40s)\n",
      "--------------------------------------------------------------------------------\n",
      "Epoch 102/200\n",
      "--------------------------------------------------------------------------------\n"
     ]
    },
    {
     "name": "stderr",
     "output_type": "stream",
     "text": [
      "Training: 100%|██████████| 172/172 [00:00<00:00, 486.90it/s]\n",
      "Validation: 100%|██████████| 43/43 [00:00<00:00, 775.74it/s]\n"
     ]
    },
    {
     "name": "stdout",
     "output_type": "stream",
     "text": [
      "[Train] Loss: 197.5071, Acc: 0.2410, F1: 0.0415, Cost: 989.3605\n",
      "[Valid] Loss: 10.7365, Acc: 0.2304, F1: 0.0415, Cost: 990.1163\n",
      "(Epoch 102 complete in 0m 40s)\n",
      "--------------------------------------------------------------------------------\n",
      "Epoch 103/200\n",
      "--------------------------------------------------------------------------------\n"
     ]
    },
    {
     "name": "stderr",
     "output_type": "stream",
     "text": [
      "Training: 100%|██████████| 172/172 [00:00<00:00, 433.56it/s]\n",
      "Validation: 100%|██████████| 43/43 [00:00<00:00, 820.39it/s]\n"
     ]
    },
    {
     "name": "stdout",
     "output_type": "stream",
     "text": [
      "[Train] Loss: 509.8944, Acc: 0.2399, F1: 0.0414, Cost: 990.7558\n",
      "[Valid] Loss: 10.7365, Acc: 0.2304, F1: 0.0415, Cost: 990.1163\n",
      "(Epoch 103 complete in 0m 40s)\n",
      "--------------------------------------------------------------------------------\n",
      "Epoch 104/200\n",
      "--------------------------------------------------------------------------------\n"
     ]
    },
    {
     "name": "stderr",
     "output_type": "stream",
     "text": [
      "Training: 100%|██████████| 172/172 [00:00<00:00, 525.08it/s]\n",
      "Validation: 100%|██████████| 43/43 [00:00<00:00, 794.58it/s]\n"
     ]
    },
    {
     "name": "stdout",
     "output_type": "stream",
     "text": [
      "[Train] Loss: 231.7962, Acc: 0.2434, F1: 0.0416, Cost: 983.4302\n",
      "[Valid] Loss: 10.7365, Acc: 0.2304, F1: 0.0415, Cost: 990.1163\n",
      "(Epoch 104 complete in 0m 41s)\n",
      "--------------------------------------------------------------------------------\n",
      "Epoch 105/200\n",
      "--------------------------------------------------------------------------------\n"
     ]
    },
    {
     "name": "stderr",
     "output_type": "stream",
     "text": [
      "Training: 100%|██████████| 172/172 [00:00<00:00, 522.11it/s]\n",
      "Validation: 100%|██████████| 43/43 [00:00<00:00, 828.07it/s]\n"
     ]
    },
    {
     "name": "stdout",
     "output_type": "stream",
     "text": [
      "[Train] Loss: 848.8733, Acc: 0.2409, F1: 0.0415, Cost: 986.6279\n",
      "[Valid] Loss: 10.7365, Acc: 0.2304, F1: 0.0415, Cost: 990.1163\n",
      "(Epoch 105 complete in 0m 41s)\n",
      "--------------------------------------------------------------------------------\n",
      "Epoch 106/200\n",
      "--------------------------------------------------------------------------------\n"
     ]
    },
    {
     "name": "stderr",
     "output_type": "stream",
     "text": [
      "Training: 100%|██████████| 172/172 [00:00<00:00, 516.99it/s]\n",
      "Validation: 100%|██████████| 43/43 [00:00<00:00, 838.27it/s]\n"
     ]
    },
    {
     "name": "stdout",
     "output_type": "stream",
     "text": [
      "[Train] Loss: 285.5289, Acc: 0.2411, F1: 0.0416, Cost: 987.7616\n",
      "[Valid] Loss: 10.7365, Acc: 0.2304, F1: 0.0415, Cost: 990.1163\n",
      "(Epoch 106 complete in 0m 42s)\n",
      "--------------------------------------------------------------------------------\n",
      "Epoch 107/200\n",
      "--------------------------------------------------------------------------------\n"
     ]
    },
    {
     "name": "stderr",
     "output_type": "stream",
     "text": [
      "Training: 100%|██████████| 172/172 [00:00<00:00, 519.62it/s]\n",
      "Validation: 100%|██████████| 43/43 [00:00<00:00, 544.55it/s]\n"
     ]
    },
    {
     "name": "stdout",
     "output_type": "stream",
     "text": [
      "[Train] Loss: 151.3853, Acc: 0.2445, F1: 0.0415, Cost: 987.7035\n",
      "[Valid] Loss: 10.7365, Acc: 0.2304, F1: 0.0415, Cost: 990.1163\n",
      "(Epoch 107 complete in 0m 42s)\n",
      "--------------------------------------------------------------------------------\n",
      "Epoch 108/200\n",
      "--------------------------------------------------------------------------------\n"
     ]
    },
    {
     "name": "stderr",
     "output_type": "stream",
     "text": [
      "Training: 100%|██████████| 172/172 [00:00<00:00, 434.47it/s]\n",
      "Validation: 100%|██████████| 43/43 [00:00<00:00, 828.16it/s]\n"
     ]
    },
    {
     "name": "stdout",
     "output_type": "stream",
     "text": [
      "[Train] Loss: 91.2938, Acc: 0.2419, F1: 0.0415, Cost: 986.8023\n",
      "[Valid] Loss: 10.7365, Acc: 0.2304, F1: 0.0415, Cost: 990.1163\n",
      "(Epoch 108 complete in 0m 42s)\n",
      "--------------------------------------------------------------------------------\n",
      "Epoch 109/200\n",
      "--------------------------------------------------------------------------------\n"
     ]
    },
    {
     "name": "stderr",
     "output_type": "stream",
     "text": [
      "Training: 100%|██████████| 172/172 [00:00<00:00, 538.72it/s]\n",
      "Validation: 100%|██████████| 43/43 [00:00<00:00, 842.38it/s]\n"
     ]
    },
    {
     "name": "stdout",
     "output_type": "stream",
     "text": [
      "[Train] Loss: 60.0217, Acc: 0.2418, F1: 0.0414, Cost: 989.7965\n",
      "[Valid] Loss: 10.7365, Acc: 0.2304, F1: 0.0415, Cost: 990.1163\n",
      "(Epoch 109 complete in 0m 43s)\n",
      "--------------------------------------------------------------------------------\n",
      "Epoch 110/200\n",
      "--------------------------------------------------------------------------------\n"
     ]
    },
    {
     "name": "stderr",
     "output_type": "stream",
     "text": [
      "Training: 100%|██████████| 172/172 [00:00<00:00, 535.75it/s]\n",
      "Validation: 100%|██████████| 43/43 [00:00<00:00, 811.16it/s]\n"
     ]
    },
    {
     "name": "stdout",
     "output_type": "stream",
     "text": [
      "[Train] Loss: 69.3229, Acc: 0.2416, F1: 0.0417, Cost: 984.2733\n",
      "[Valid] Loss: 10.7365, Acc: 0.2304, F1: 0.0415, Cost: 990.1163\n",
      "(Epoch 110 complete in 0m 43s)\n",
      "--------------------------------------------------------------------------------\n",
      "Epoch 111/200\n",
      "--------------------------------------------------------------------------------\n"
     ]
    },
    {
     "name": "stderr",
     "output_type": "stream",
     "text": [
      "Training: 100%|██████████| 172/172 [00:00<00:00, 545.87it/s]\n",
      "Validation: 100%|██████████| 43/43 [00:00<00:00, 763.26it/s]"
     ]
    },
    {
     "name": "stdout",
     "output_type": "stream",
     "text": [
      "[Train] Loss: 873.5191, Acc: 0.2423, F1: 0.0414, Cost: 993.2849\n",
      "[Valid] Loss: 10.7365, Acc: 0.2304, F1: 0.0415, Cost: 990.1163\n",
      "(Epoch 111 complete in 0m 44s)\n",
      "-----<Early Stopping at Epoch 111>-----\n"
     ]
    },
    {
     "name": "stderr",
     "output_type": "stream",
     "text": [
      "\n"
     ]
    }
   ],
   "source": [
    "# 학습 실행\n",
    "train_loss_history, train_acc_history, train_f1_history, train_cost_history, valid_loss_history, valid_acc_history, valid_f1_history, valid_cost_history = trainer(\n",
    "    model,\n",
    "    train_dataloader,\n",
    "    val_dataloader,\n",
    "    criterion,\n",
    "    optimizer,\n",
    "    scheduler,\n",
    "    acc_metric,\n",
    "    f1_metric,\n",
    "    custom_metric,\n",
    "    device,\n",
    "    num_epochs=num_epochs,\n",
    "    wait_for_es=wait_for_es,\n",
    ")"
   ]
  },
  {
   "cell_type": "code",
   "execution_count": 30,
   "metadata": {},
   "outputs": [],
   "source": [
    "# 학습 과정 시각화 함수\n",
    "def plot_training_history(train_loss_history, train_acc_history, train_f1_history, train_cost_history, \n",
    "                          valid_loss_history, valid_acc_history, valid_f1_history, valid_cost_history):\n",
    "    plt.figure(figsize=(16, 9))\n",
    "\n",
    "    # Loss Plot\n",
    "    plt.subplot(2, 2, 1)\n",
    "    plt.plot(train_loss_history, label='Train Loss')\n",
    "    plt.plot(valid_loss_history, label='Validation Loss')\n",
    "    plt.title('Training and Validation Loss')\n",
    "    plt.xlabel('Epochs')\n",
    "    plt.ylabel('Loss')\n",
    "    plt.legend()\n",
    "\n",
    "    # Accuracy Plot\n",
    "    plt.subplot(2, 2, 2)\n",
    "    plt.plot(train_acc_history, label='Train Accuracy')\n",
    "    plt.plot(valid_acc_history, label='Validation Accuracy')\n",
    "    plt.title('Training and Validation Accuracy')\n",
    "    plt.xlabel('Epochs')\n",
    "    plt.ylabel('Accuracy')\n",
    "    plt.legend()\n",
    "\n",
    "    # F1 Score Plot\n",
    "    plt.subplot(2, 2, 3)\n",
    "    plt.plot(train_f1_history, label='Train F1 Score')\n",
    "    plt.plot(valid_f1_history, label='Validation F1 Score')\n",
    "    plt.title('Training and Validation F1 Score')\n",
    "    plt.xlabel('Epochs')\n",
    "    plt.ylabel('F1 Score')\n",
    "    plt.legend()\n",
    "\n",
    "    # Cost Plot\n",
    "    plt.subplot(2, 2, 4)\n",
    "    plt.plot(train_cost_history, label='Train Cost')\n",
    "    plt.plot(valid_cost_history, label='Validation Cost')\n",
    "    plt.title('Training and Validation Cost')\n",
    "    plt.xlabel('Epochs')\n",
    "    plt.ylabel('Cost')\n",
    "    plt.legend()\n",
    "\n",
    "    plt.tight_layout()\n",
    "    plt.show()"
   ]
  },
  {
   "cell_type": "code",
   "execution_count": 29,
   "metadata": {},
   "outputs": [
    {
     "data": {
      "image/png": "[encoded data removed]",
      "text/plain": [
       "<Figure size 1600x900 with 4 Axes>"
      ]
     },
     "metadata": {},
     "output_type": "display_data"
    }
   ],
   "source": [
    "plot_training_history(train_loss_history, train_acc_history, train_f1_history, train_cost_history, \n",
    "                      valid_loss_history, valid_acc_history, valid_f1_history, valid_cost_history)"
   ]
  },
  {
   "cell_type": "markdown",
   "metadata": {},
   "source": [
    "에러 수정 기록\n",
    "1. RuntimeError: \"nll_loss_forward_reduce_cuda_kernel_2d_index\" not implemented for 'Float' : [티스토리](https://data-science.tistory.com/170)\n",
    "2. RuntimeError: CUDA error: device-side assert triggered : [티스토리](https://wsshin.tistory.com/12)"
   ]
  }
 ],
 "metadata": {
  "kernelspec": {
   "display_name": "PySang",
   "language": "python",
   "name": "python3"
  },
  "language_info": {
   "codemirror_mode": {
    "name": "ipython",
    "version": 3
   },
   "file_extension": ".py",
   "mimetype": "text/x-python",
   "name": "python",
   "nbconvert_exporter": "python",
   "pygments_lexer": "ipython3",
   "version": "3.12.1"
  }
 },
 "nbformat": 4,
 "nbformat_minor": 2
}
